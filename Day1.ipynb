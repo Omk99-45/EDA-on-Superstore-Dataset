{
 "cells": [
  {
   "cell_type": "code",
   "execution_count": 1,
   "id": "9e4e5103",
   "metadata": {},
   "outputs": [],
   "source": [
    "#Python Introduction"
   ]
  },
  {
   "cell_type": "code",
   "execution_count": 2,
   "id": "a7f52372",
   "metadata": {},
   "outputs": [],
   "source": [
    "# Comments\n",
    "\n",
    "# 1.Single line comments\n",
    "# 2.Inline comments\n",
    "# 3.Multiline comments\n",
    "# 4. Docstring"
   ]
  },
  {
   "cell_type": "code",
   "execution_count": 5,
   "id": "11ca9a0b",
   "metadata": {},
   "outputs": [
    {
     "name": "stdout",
     "output_type": "stream",
     "text": [
      "hello world !\n"
     ]
    }
   ],
   "source": [
    "# WAP to display \"Hello World !\"\n",
    "\n",
    "print(\"hello world !\")"
   ]
  },
  {
   "cell_type": "code",
   "execution_count": 4,
   "id": "74a9b996",
   "metadata": {},
   "outputs": [
    {
     "name": "stdout",
     "output_type": "stream",
     "text": [
      " welcome to seven mentor,Fc road pune\n"
     ]
    }
   ],
   "source": [
    "# WAP to display welcome to seven mentor\n",
    "\n",
    "print(\" welcome to seven mentor\", end=\",\")\n",
    "print(\"Fc road pune\")"
   ]
  },
  {
   "cell_type": "markdown",
   "id": "29b70c13",
   "metadata": {},
   "source": [
    "# Taking input from user"
   ]
  },
  {
   "cell_type": "code",
   "execution_count": 13,
   "id": "ef05b9e3",
   "metadata": {},
   "outputs": [
    {
     "name": "stdout",
     "output_type": "stream",
     "text": [
      "Enter username :ahgv\n",
      "Enter password:anu123\n"
     ]
    }
   ],
   "source": [
    "# WAP to take \"username\" , \"password\" from user.\n",
    "\n",
    "u =input(\"Enter username :\")\n",
    "p=input (\"Enter password:\")"
   ]
  },
  {
   "cell_type": "code",
   "execution_count": 14,
   "id": "bf3ed914",
   "metadata": {},
   "outputs": [
    {
     "data": {
      "text/plain": [
       "('ahgv', 'anu123')"
      ]
     },
     "execution_count": 14,
     "metadata": {},
     "output_type": "execute_result"
    }
   ],
   "source": [
    "u,p"
   ]
  },
  {
   "cell_type": "markdown",
   "id": "c9ccf1f8",
   "metadata": {},
   "source": [
    "## Data types"
   ]
  },
  {
   "cell_type": "code",
   "execution_count": 16,
   "id": "03bda773",
   "metadata": {},
   "outputs": [
    {
     "name": "stdout",
     "output_type": "stream",
     "text": [
      "om kshirsagar <class 'str'>\n"
     ]
    }
   ],
   "source": [
    "# String \n",
    "\n",
    "a = 'om kshirsagar'\n",
    "print(a,type(a))"
   ]
  },
  {
   "cell_type": "code",
   "execution_count": 17,
   "id": "167873c2",
   "metadata": {},
   "outputs": [
    {
     "name": "stdout",
     "output_type": "stream",
     "text": [
      "123 <class 'int'>\n"
     ]
    }
   ],
   "source": [
    "#int\n",
    "\n",
    "b=123\n",
    "print(b,type(b))"
   ]
  },
  {
   "cell_type": "markdown",
   "id": "b75f84bf",
   "metadata": {},
   "source": [
    "# float"
   ]
  },
  {
   "cell_type": "code",
   "execution_count": 18,
   "id": "bf73a8fb",
   "metadata": {},
   "outputs": [
    {
     "name": "stdout",
     "output_type": "stream",
     "text": [
      "23.45 <class 'float'>\n"
     ]
    }
   ],
   "source": [
    "#float \n",
    "\n",
    "c=23.45\n",
    "print(c,type(c))"
   ]
  },
  {
   "cell_type": "markdown",
   "id": "c45192af",
   "metadata": {},
   "source": [
    "# boolean"
   ]
  },
  {
   "cell_type": "code",
   "execution_count": 19,
   "id": "1f27edec",
   "metadata": {},
   "outputs": [
    {
     "name": "stdout",
     "output_type": "stream",
     "text": [
      "False <class 'bool'>\n"
     ]
    }
   ],
   "source": [
    "# boolean\n",
    "\n",
    "d=150>345\n",
    "print(d,type(d))"
   ]
  },
  {
   "cell_type": "markdown",
   "id": "be9be377",
   "metadata": {},
   "source": [
    "# Operaters"
   ]
  },
  {
   "cell_type": "code",
   "execution_count": 2,
   "id": "c599d207",
   "metadata": {},
   "outputs": [],
   "source": [
    "# 1.Arithemtic operators\n",
    "# 2.Logical Operators\n",
    "# 3.shifting Operators\n",
    "# 4.Bitwise operators"
   ]
  },
  {
   "cell_type": "code",
   "execution_count": 3,
   "id": "8458515e",
   "metadata": {},
   "outputs": [],
   "source": [
    "# Arithmetic operators [+,-,/,//,%,**]"
   ]
  },
  {
   "cell_type": "code",
   "execution_count": 4,
   "id": "02886c1c",
   "metadata": {},
   "outputs": [
    {
     "name": "stdout",
     "output_type": "stream",
     "text": [
      "123\n"
     ]
    }
   ],
   "source": [
    "# 1.Adittion [+]\n",
    "\n",
    "a=100\n",
    "b=23\n",
    "\n",
    "\n",
    "add=a+b\n",
    "print(add)"
   ]
  },
  {
   "cell_type": "code",
   "execution_count": 5,
   "id": "d8fee5c0",
   "metadata": {},
   "outputs": [
    {
     "name": "stdout",
     "output_type": "stream",
     "text": [
      "-77\n"
     ]
    }
   ],
   "source": [
    "# 2.Substraction[-]\n",
    "\n",
    "sub=b-a\n",
    "print(sub)"
   ]
  },
  {
   "cell_type": "code",
   "execution_count": 6,
   "id": "9affc70a",
   "metadata": {},
   "outputs": [
    {
     "name": "stdout",
     "output_type": "stream",
     "text": [
      "2300\n"
     ]
    }
   ],
   "source": [
    "# 3.multiplication[*]\n",
    "\n",
    "mul=a*b\n",
    "print(mul)"
   ]
  },
  {
   "cell_type": "code",
   "execution_count": 7,
   "id": "0a7a70de",
   "metadata": {},
   "outputs": [
    {
     "name": "stdout",
     "output_type": "stream",
     "text": [
      "4.3478260869565215\n"
     ]
    }
   ],
   "source": [
    "# 4.division[/]\n",
    "\n",
    "div=a/b\n",
    "print(div)"
   ]
  },
  {
   "cell_type": "code",
   "execution_count": 9,
   "id": "9d5d295a",
   "metadata": {},
   "outputs": [
    {
     "name": "stdout",
     "output_type": "stream",
     "text": [
      "4\n"
     ]
    }
   ],
   "source": [
    "# 5.Floor division[//]\n",
    "\n",
    "fdiv=a//b\n",
    "print(fdiv)"
   ]
  },
  {
   "cell_type": "code",
   "execution_count": 10,
   "id": "c74f1ab3",
   "metadata": {},
   "outputs": [
    {
     "name": "stdout",
     "output_type": "stream",
     "text": [
      "8\n"
     ]
    }
   ],
   "source": [
    "# 6.Reminder[%]\n",
    "\n",
    "rem=a%b\n",
    "print(rem)"
   ]
  },
  {
   "cell_type": "code",
   "execution_count": 11,
   "id": "ff7526de",
   "metadata": {},
   "outputs": [
    {
     "name": "stdout",
     "output_type": "stream",
     "text": [
      "144\n"
     ]
    }
   ],
   "source": [
    "# 7.exponentional\n",
    "\n",
    "a=12\n",
    "b=2\n",
    "\n",
    "p=a**b\n",
    "print(p)"
   ]
  },
  {
   "cell_type": "code",
   "execution_count": 12,
   "id": "efa5c87b",
   "metadata": {},
   "outputs": [],
   "source": [
    "# How to take input\n",
    "# how to display\n",
    "#Arithmitic Operator"
   ]
  },
  {
   "cell_type": "code",
   "execution_count": 13,
   "id": "2d755b8d",
   "metadata": {},
   "outputs": [
    {
     "name": "stdout",
     "output_type": "stream",
     "text": [
      "Enter a number:100\n",
      "Enter a number:200\n",
      "Addition: 100200\n"
     ]
    }
   ],
   "source": [
    "# WAP to add 2 numbers given by user\n",
    "\n",
    "n1= input(\"Enter a number:\")\n",
    "n2= input(\"Enter a number:\")\n",
    "\n",
    "add=n1+n2\n",
    "\n",
    "print(\"Addition:\",add)"
   ]
  },
  {
   "cell_type": "markdown",
   "id": "4cae51af",
   "metadata": {},
   "source": [
    "#### Typecasting"
   ]
  },
  {
   "cell_type": "code",
   "execution_count": 14,
   "id": "8a6f0b94",
   "metadata": {},
   "outputs": [],
   "source": [
    "# CHanging datatype of variable without changing its value."
   ]
  },
  {
   "cell_type": "code",
   "execution_count": 15,
   "id": "0f9f0ee8",
   "metadata": {},
   "outputs": [],
   "source": [
    "# String, int,float,boolean,complex"
   ]
  },
  {
   "cell_type": "code",
   "execution_count": 16,
   "id": "30187f24",
   "metadata": {},
   "outputs": [],
   "source": [
    "# String => int,float,bool,complex"
   ]
  },
  {
   "cell_type": "code",
   "execution_count": 17,
   "id": "89e67611",
   "metadata": {},
   "outputs": [
    {
     "name": "stdout",
     "output_type": "stream",
     "text": [
      "10 <class 'str'>\n",
      "10 <class 'int'>\n"
     ]
    }
   ],
   "source": [
    "# string to int\n",
    "\n",
    "s1='10'\n",
    "\n",
    "print(s1,type(s1))\n",
    "\n",
    "i1=int(s1)\n",
    "print(i1,type(i1))"
   ]
  },
  {
   "cell_type": "code",
   "execution_count": 18,
   "id": "ab322601",
   "metadata": {},
   "outputs": [
    {
     "name": "stdout",
     "output_type": "stream",
     "text": [
      "(10+0j) <class 'complex'>\n"
     ]
    }
   ],
   "source": [
    "# string to complex number\n",
    "\n",
    "c1=complex(s1)\n",
    "print(c1,type(c1))"
   ]
  },
  {
   "cell_type": "code",
   "execution_count": 19,
   "id": "46ad6dee",
   "metadata": {},
   "outputs": [
    {
     "name": "stdout",
     "output_type": "stream",
     "text": [
      "Enter a number:100\n",
      "Enter a number:200\n",
      "Addition: 300\n"
     ]
    }
   ],
   "source": [
    "# WAP to add 2 numbers given by user\n",
    "\n",
    "n1= int(input(\"Enter a number:\"))    # accepting input and typecasting it str=>int\n",
    "n2= int(input(\"Enter a number:\"))\n",
    "\n",
    "add=n1+n2\n",
    "\n",
    "print(\"Addition:\",add)"
   ]
  },
  {
   "cell_type": "code",
   "execution_count": 20,
   "id": "0b79ada9",
   "metadata": {},
   "outputs": [
    {
     "name": "stdout",
     "output_type": "stream",
     "text": [
      "Enter Radius:10\n",
      "Area of circle:  314.0\n"
     ]
    }
   ],
   "source": [
    "# WAP to area of circle.  area =3.14 r square\n",
    "\n",
    "# Taking input from the user\n",
    "\n",
    "r= float(input(\"Enter Radius:\"))   # Typecasting from str=>float\n",
    "\n",
    "# Arithmetic expression\n",
    "area= 3.14*r**2\n",
    "\n",
    "# Display Result\n",
    "print(\"Area of circle: \",area)"
   ]
  },
  {
   "cell_type": "code",
   "execution_count": 24,
   "id": "ce86b7d4",
   "metadata": {},
   "outputs": [
    {
     "name": "stdout",
     "output_type": "stream",
     "text": [
      "Enter temp in degree38\n",
      "38.0 dgree = 100.4 F\n"
     ]
    }
   ],
   "source": [
    "# WAP to conert temp from degree to ferenite.   (c* 9/5)+32\n",
    "\n",
    "# taking input from user\n",
    "c=float(input(\"Enter temp in degree\"))\n",
    "\n",
    "#Expression\n",
    "f=(c*9/5)+32\n",
    "\n",
    "\n",
    "#display result\n",
    "print(c,\"dgree =\",f,\"F\")"
   ]
  },
  {
   "cell_type": "code",
   "execution_count": 25,
   "id": "f10fb630",
   "metadata": {},
   "outputs": [
    {
     "name": "stdout",
     "output_type": "stream",
     "text": [
      "Enter number in USD:100\n",
      "100.0 USD= 8343.0 INR\n"
     ]
    }
   ],
   "source": [
    "# WAP to convert doolars into INR.   1$=83.43 INR\n",
    "\n",
    "#Taking input\n",
    "D=float(input(\"Enter number in USD:\"))\n",
    "\n",
    "\n",
    "#Arithmetic Expression\n",
    "I=83.43*D\n",
    "\n",
    "# DispLAY \n",
    "print(D,\"USD=\",I,\"INR\")"
   ]
  },
  {
   "cell_type": "code",
   "execution_count": 26,
   "id": "41996c12",
   "metadata": {},
   "outputs": [
    {
     "name": "stdout",
     "output_type": "stream",
     "text": [
      "enter a radius:10\n",
      "Volume: 4186.67\n"
     ]
    }
   ],
   "source": [
    "# WAP  to volume of sphere .   4/3 pi r cube\n",
    "\n",
    "#Taking input\n",
    "r=float(input(\"enter a radius:\"))\n",
    "\n",
    "#Arithmetic Expression\n",
    "v= 4/3*3.14*r**3\n",
    "\n",
    "#DisplAY \n",
    "print(\"Volume:\",round(v,2))"
   ]
  },
  {
   "cell_type": "code",
   "execution_count": 28,
   "id": "61794f14",
   "metadata": {},
   "outputs": [
    {
     "name": "stdout",
     "output_type": "stream",
     "text": [
      "Enter a length of rectangle:50\n",
      "Enter a brreath of rectangle:50\n",
      "area of reactangle: 2500.0\n"
     ]
    }
   ],
   "source": [
    "# WAP find area of rectangle.    area=length*breath\n",
    "\n",
    "#Taking input\n",
    "l=float(input(\"Enter a length of rectangle:\"))\n",
    "b=float (input(\"Enter a brreath of rectangle:\"))\n",
    "\n",
    "# Arithmetic expression\n",
    "a=l*b\n",
    "\n",
    "#Display\n",
    "print(\"area of reactangle:\",a)"
   ]
  },
  {
   "cell_type": "code",
   "execution_count": 29,
   "id": "3ac455ee",
   "metadata": {},
   "outputs": [
    {
     "name": "stdout",
     "output_type": "stream",
     "text": [
      "Enter principle Amount:100\n",
      "Enter rate of intrset:10\n",
      "Enter tenure in year:3\n",
      "simple intrest: 30.0\n",
      "final amount: 130.0\n"
     ]
    }
   ],
   "source": [
    "# WAP to display intrested and amount for simple intrest.   SI=PNR/100\n",
    "\n",
    "# Taking INputs\n",
    "p=float(input(\"Enter principle Amount:\"))\n",
    "r=float(input(\"Enter rate of intrset:\"))\n",
    "n=float(input(\"Enter tenure in year:\"))\n",
    "\n",
    "# aritmetic exprression\n",
    "SI=p*r*n/100\n",
    "\n",
    "#Display \n",
    "print(\"simple intrest:\",SI)\n",
    "print(\"final amount:\",p+SI)"
   ]
  },
  {
   "cell_type": "markdown",
   "id": "7e0e10d7",
   "metadata": {},
   "source": [
    "# ROUND OF FUNCTION"
   ]
  },
  {
   "cell_type": "code",
   "execution_count": 1,
   "id": "3bb6d8fa",
   "metadata": {},
   "outputs": [
    {
     "name": "stdout",
     "output_type": "stream",
     "text": [
      "3.33\n"
     ]
    }
   ],
   "source": [
    "#\n",
    "\n",
    "a=10/3\n",
    "print(round(a,2))"
   ]
  },
  {
   "cell_type": "code",
   "execution_count": 8,
   "id": "24a07dc2",
   "metadata": {},
   "outputs": [
    {
     "name": "stdout",
     "output_type": "stream",
     "text": [
      "monthly investment:5000\n",
      "expected rate of return:10\n",
      "tenure in years:10\n",
      "INVESTED AMOUNT: 50000\n",
      "INVESTED  : 982760.1019716572\n",
      "total value: 1032760.1019716572\n"
     ]
    }
   ],
   "source": [
    "#WAP to display SIP returns.\n",
    "\n",
    "\n",
    "#Taking inputs from user\n",
    "\n",
    "P=int(input(\"monthly investment:\"))           #Monthly SIP amount \n",
    "R=float(input(\"expected rate of return:\"))    #years ROI\n",
    "N=int(input(\"tenure in years:\"))              #N IN YEARS   \n",
    "\n",
    "#Arithmetic expression\n",
    "\n",
    "#convert ROI from year to month\n",
    "r=R/12/100\n",
    "#convert years into month\n",
    "n=N*12\n",
    "\n",
    "A=P*(((1+r)**n)-1)*(1+r)/r\n",
    "#DisplaY OUTPUT\n",
    "print(\"INVESTED AMOUNT:\",P*N)\n",
    "print(\"INVESTED  :\",A-(P*N))\n",
    "print(\"total value:\",A)"
   ]
  },
  {
   "cell_type": "code",
   "execution_count": 15,
   "id": "c33b10ee",
   "metadata": {},
   "outputs": [
    {
     "name": "stdout",
     "output_type": "stream",
     "text": [
      "loan amt:20000\n",
      "rate of intrest:15\n",
      "loan tenure for month:2\n",
      "------------E---------\n",
      "loan amount :20000\n",
      " rate of intrest: 15.0\n",
      " loan Tenure  :2\n",
      "monthly EMI:970\n",
      " Total Amount: 23274\n",
      "Total Intrested: 3274\n"
     ]
    }
   ],
   "source": [
    "#WAP to  display EMI \n",
    "\n",
    "#Taking input from user\n",
    "\n",
    "P=int(input(\"loan amt:\"))\n",
    "R=float(input(\"rate of intrest:\"))\n",
    "N=int(input(\"loan tenure for month:\"))\n",
    "\n",
    "#converting yearly ROI into monthly ROI\n",
    "r=R/12/100\n",
    "\n",
    "#Convert tenure from years to month\n",
    "n=N*12\n",
    "\n",
    "E=P*r*(((1+r)**n)/((1+r)**n-1))\n",
    "\n",
    "print(\"------------E---------\")\n",
    "\n",
    "print(f\"loan amount :{P}\\n rate of intrest: {R}\\n loan Tenure  :{N}\")\n",
    "print(f\"monthly EMI:{round(E)}\\n Total Amount: {round(E*n)}\")\n",
    "print(\"Total Intrested:\",(round(E*n)-P))\n"
   ]
  },
  {
   "cell_type": "code",
   "execution_count": null,
   "id": "b78cfa2d",
   "metadata": {},
   "outputs": [],
   "source": []
  }
 ],
 "metadata": {
  "kernelspec": {
   "display_name": "Python 3 (ipykernel)",
   "language": "python",
   "name": "python3"
  },
  "language_info": {
   "codemirror_mode": {
    "name": "ipython",
    "version": 3
   },
   "file_extension": ".py",
   "mimetype": "text/x-python",
   "name": "python",
   "nbconvert_exporter": "python",
   "pygments_lexer": "ipython3",
   "version": "3.11.3"
  }
 },
 "nbformat": 4,
 "nbformat_minor": 5
}
