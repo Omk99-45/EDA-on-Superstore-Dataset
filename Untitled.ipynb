{
 "cells": [
  {
   "cell_type": "code",
   "execution_count": 2,
   "id": "76875a69",
   "metadata": {},
   "outputs": [
    {
     "name": "stdout",
     "output_type": "stream",
     "text": [
      "enter a no:23\n",
      "decimal no 23.0\n"
     ]
    }
   ],
   "source": [
    "#1. Converting an Integer into Decimals.\n",
    "\n",
    "a=int(input(\"enter a no:\"))\n",
    "b=float(a)\n",
    "print(\"decimal no\",b)"
   ]
  },
  {
   "cell_type": "code",
   "execution_count": 4,
   "id": "0a0321d1",
   "metadata": {},
   "outputs": [
    {
     "name": "stdout",
     "output_type": "stream",
     "text": [
      "enter a name:ond\n"
     ]
    },
    {
     "ename": "ValueError",
     "evalue": "could not convert string to float: 'ond'",
     "output_type": "error",
     "traceback": [
      "\u001b[1;31m---------------------------------------------------------------------------\u001b[0m",
      "\u001b[1;31mValueError\u001b[0m                                Traceback (most recent call last)",
      "Cell \u001b[1;32mIn[4], line 4\u001b[0m\n\u001b[0;32m      1\u001b[0m \u001b[38;5;66;03m#2. Converting an String of Integers into Decimals\u001b[39;00m\n\u001b[0;32m      3\u001b[0m a\u001b[38;5;241m=\u001b[39m\u001b[38;5;28mstr\u001b[39m(\u001b[38;5;28minput\u001b[39m(\u001b[38;5;124m\"\u001b[39m\u001b[38;5;124menter a name:\u001b[39m\u001b[38;5;124m\"\u001b[39m))\n\u001b[1;32m----> 4\u001b[0m b\u001b[38;5;241m=\u001b[39m\u001b[38;5;28mfloat\u001b[39m(a)\n\u001b[0;32m      5\u001b[0m \u001b[38;5;28mprint\u001b[39m(\u001b[38;5;124m\"\u001b[39m\u001b[38;5;124m \u001b[39m\u001b[38;5;124m\"\u001b[39m,b)\n",
      "\u001b[1;31mValueError\u001b[0m: could not convert string to float: 'ond'"
     ]
    }
   ],
   "source": [
    "#4. Finding the Maximum Number in a List\n",
    "numberList = [15, 85, 35, 89, 125]\n",
    "\n",
    "list.sort"
   ]
  },
  {
   "cell_type": "code",
   "execution_count": 2,
   "id": "07e221c1",
   "metadata": {},
   "outputs": [
    {
     "name": "stdout",
     "output_type": "stream",
     "text": [
      "Enter the string: 43656\n",
      "Decimal value 43656.0\n"
     ]
    }
   ],
   "source": [
    "string=input(\"Enter the string: \")\n",
    "integer=int(string)\n",
    "decimal=float(integer)\n",
    "print(\"Decimal value\", decimal)"
   ]
  },
  {
   "cell_type": "code",
   "execution_count": null,
   "id": "341fe80f",
   "metadata": {},
   "outputs": [],
   "source": []
  },
  {
   "cell_type": "code",
   "execution_count": null,
   "id": "8d62cd45",
   "metadata": {},
   "outputs": [],
   "source": []
  }
 ],
 "metadata": {
  "kernelspec": {
   "display_name": "Python 3 (ipykernel)",
   "language": "python",
   "name": "python3"
  },
  "language_info": {
   "codemirror_mode": {
    "name": "ipython",
    "version": 3
   },
   "file_extension": ".py",
   "mimetype": "text/x-python",
   "name": "python",
   "nbconvert_exporter": "python",
   "pygments_lexer": "ipython3",
   "version": "3.11.3"
  }
 },
 "nbformat": 4,
 "nbformat_minor": 5
}
