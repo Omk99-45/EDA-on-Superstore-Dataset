{
 "cells": [
  {
   "cell_type": "markdown",
   "id": "964e4dc9",
   "metadata": {},
   "source": [
    "# Condition"
   ]
  },
  {
   "cell_type": "markdown",
   "id": "5de4adda",
   "metadata": {},
   "source": [
    "### Relational operators:>,>=,<,<=,=="
   ]
  },
  {
   "cell_type": "code",
   "execution_count": 1,
   "id": "e5dd62c2",
   "metadata": {},
   "outputs": [
    {
     "name": "stdout",
     "output_type": "stream",
     "text": [
      "10\n"
     ]
    }
   ],
   "source": [
    "a=10\n",
    "print(a)"
   ]
  },
  {
   "cell_type": "code",
   "execution_count": 3,
   "id": "35e61ed6",
   "metadata": {},
   "outputs": [
    {
     "name": "stdout",
     "output_type": "stream",
     "text": [
      "True\n"
     ]
    }
   ],
   "source": [
    "b=(a==10)\n",
    "print(b)"
   ]
  },
  {
   "cell_type": "code",
   "execution_count": 4,
   "id": "4b461ce1",
   "metadata": {},
   "outputs": [],
   "source": [
    "#Syntax:Condition\n",
    "\n",
    "#if condition:"
   ]
  },
  {
   "cell_type": "code",
   "execution_count": 5,
   "id": "dea23644",
   "metadata": {},
   "outputs": [
    {
     "name": "stdout",
     "output_type": "stream",
     "text": [
      "I am in else block\n",
      "i am still in else\n",
      "else\n",
      " still in else...\n",
      "end\n"
     ]
    }
   ],
   "source": [
    "#example:\n",
    "\n",
    "a=100\n",
    "\n",
    "if a==10:\n",
    "    print(\"I am in if block\")\n",
    "    \n",
    "else:\n",
    "    print(\"I am in else block\")\n",
    "    print(\"i am still in else\")\n",
    "    print(\"else\")\n",
    "    print(\" still in else...\")\n",
    "    \n",
    "print(\"end\")\n",
    "    "
   ]
  },
  {
   "cell_type": "code",
   "execution_count": 1,
   "id": "858d62c0",
   "metadata": {},
   "outputs": [
    {
     "name": "stdout",
     "output_type": "stream",
     "text": [
      "Enter user marks:60\n",
      "fail\n"
     ]
    }
   ],
   "source": [
    "#1.WAP a program to check whether student ids pass or fail\n",
    "\n",
    "mark=int(input(\"Enter user marks:\"))\n",
    "\n",
    "\n",
    "if mark>=100:\n",
    "    print(\"pass\")\n",
    "    \n",
    "else:\n",
    "    print(\"fail\")"
   ]
  },
  {
   "cell_type": "code",
   "execution_count": 3,
   "id": "02bb9633",
   "metadata": {},
   "outputs": [
    {
     "name": "stdout",
     "output_type": "stream",
     "text": [
      "enter a no:2\n",
      "positive\n"
     ]
    }
   ],
   "source": [
    "# 2.WAP a program to check whether no is positive /negative\n",
    "\n",
    "a=int(input(\"enter a no:\"))\n",
    "\n",
    "if a>0:\n",
    "    print(\"positive\")\n",
    "    \n",
    "else:\n",
    "    print(\"negative\")"
   ]
  },
  {
   "cell_type": "code",
   "execution_count": 5,
   "id": "a4694d74",
   "metadata": {},
   "outputs": [
    {
     "name": "stdout",
     "output_type": "stream",
     "text": [
      "enter a no:24\n",
      "enter a no:45\n",
      "45 is greater than 24\n"
     ]
    }
   ],
   "source": [
    "#3.WAP to check greater no among two no.\n",
    "\n",
    "n1=int(input(\"enter a no:\"))\n",
    "n2=int(input(\"enter a no:\"))\n",
    "\n",
    "if n1>n2:\n",
    "    print(n1,\"is greater than\",n2)\n",
    "    \n",
    "else:\n",
    "    print(n2,\"is greater than\",n1)"
   ]
  },
  {
   "cell_type": "code",
   "execution_count": 6,
   "id": "67b83bc5",
   "metadata": {},
   "outputs": [
    {
     "name": "stdout",
     "output_type": "stream",
     "text": [
      "enter a no:23\n",
      "enter a no:23\n",
      "23 is equal 23\n"
     ]
    }
   ],
   "source": [
    "# WAP TO CHECK if both no is same \n",
    "\n",
    "n1=int(input(\"enter a no:\"))\n",
    "n2=int(input(\"enter a no:\"))\n",
    "\n",
    "\n",
    "if n1>n2:\n",
    "    print(n1,\"is greater than\",n2)\n",
    "    \n",
    "elif n2>n1:\n",
    "    print(n2,\"is greater than\",n1)\n",
    "    \n",
    "else:\n",
    "    print(n2,\"is equal\",n1)"
   ]
  },
  {
   "cell_type": "code",
   "execution_count": 7,
   "id": "6e8ad3e3",
   "metadata": {},
   "outputs": [
    {
     "name": "stdout",
     "output_type": "stream",
     "text": [
      "enter a no:34\n",
      " no is even\n"
     ]
    }
   ],
   "source": [
    "# WAP to check no is even or odd\n",
    "\n",
    "n1=int(input(\"enter a no:\"))\n",
    "\n",
    "if (n1%2==0):\n",
    "    print(\" no is even\")\n",
    "    \n",
    "else:\n",
    "    print(\"no is odd\")"
   ]
  },
  {
   "cell_type": "code",
   "execution_count": 8,
   "id": "3f3fdeb6",
   "metadata": {},
   "outputs": [
    {
     "name": "stdout",
     "output_type": "stream",
     "text": [
      "enter a no:44\n",
      " divsible\n"
     ]
    }
   ],
   "source": [
    "#5.WAP to check no is divisible by 11.\n",
    "\n",
    "n1=int(input(\"enter a no:\"))\n",
    "\n",
    "if (n1%11==0):\n",
    "    print(\" divsible\")\n",
    "    \n",
    "else:\n",
    "    print(\"not divisble\")"
   ]
  },
  {
   "cell_type": "markdown",
   "id": "5b339f66",
   "metadata": {},
   "source": [
    "#### LOGICAL OPERATORS:and,or,not"
   ]
  },
  {
   "cell_type": "code",
   "execution_count": 2,
   "id": "b5a9a332",
   "metadata": {},
   "outputs": [
    {
     "name": "stdout",
     "output_type": "stream",
     "text": [
      "Enter a no:2\n",
      "2 is not divisible by 5,7 \n"
     ]
    }
   ],
   "source": [
    "#6.WAP to check wheter given no is divisible by 5,7.\n",
    "\n",
    "n=int(input(\"Enter a no:\"))\n",
    "\n",
    "if (n%5==0) and (n%7==0):\n",
    "    print(n,\"is divisble by 5,7\")\n",
    "    \n",
    "else:\n",
    "    print(n,\"is not divisible by 5,7 \")"
   ]
  },
  {
   "cell_type": "code",
   "execution_count": 12,
   "id": "210ac9a4",
   "metadata": {},
   "outputs": [
    {
     "name": "stdout",
     "output_type": "stream",
     "text": [
      "Enter a no:123\n",
      "123 is in range\n"
     ]
    }
   ],
   "source": [
    "#7.WAP to check wheter givern no is in the range of 111 to 222\n",
    "\n",
    "n=int(input(\"Enter a no:\"))\n",
    "\n",
    "if (n>=111) and (n<=222):\n",
    "    print(n,\"is in range\")\n",
    "    \n",
    "else:\n",
    "    print(n,\"is not in range \")"
   ]
  },
  {
   "cell_type": "code",
   "execution_count": 19,
   "id": "7757a761",
   "metadata": {},
   "outputs": [
    {
     "name": "stdout",
     "output_type": "stream",
     "text": [
      "Enter a no:1700\n",
      "1700 no\n"
     ]
    }
   ],
   "source": [
    "#8.WAP to check given no is three digit multiple of 17.\n",
    "\n",
    "n=int(input(\"Enter a no:\"))\n",
    "\n",
    "if (n>=99) and (n<=1000) and (n%17==0):\n",
    "    print(n,\"yes\")\n",
    "    \n",
    "else:\n",
    "    print(n,\"no\")"
   ]
  },
  {
   "cell_type": "code",
   "execution_count": 20,
   "id": "0880869e",
   "metadata": {},
   "outputs": [],
   "source": [
    "# WAp to display Salary Slip of Employee.\n",
    "\n",
    "#   Basic Salary          Dearness Alw          Travelling Alw       Incentive           \n",
    "#      <10000                 50%                     10%                5000\n",
    "#      <20000                 60%                     20%               10000  \n",
    "#      <30000                 65%                     40%               20000\n",
    "#       >30000                75%                     65%               30000\n",
    "\n",
    "\n"
   ]
  },
  {
   "cell_type": "code",
   "execution_count": 25,
   "id": "c6a393bd",
   "metadata": {},
   "outputs": [
    {
     "name": "stdout",
     "output_type": "stream",
     "text": [
      "enter a basic salary:5000\n",
      "--------salary slip-------------\n",
      "basic salary: 5000\n",
      "dearness allowance: 2500.0\n",
      "travelling allowance: 500.0\n",
      "incentive 5000\n",
      "total salary: 13000.0\n"
     ]
    }
   ],
   "source": [
    "# total = bs+da+ta+inc\n",
    "\n",
    "\n",
    "\n",
    "bs =int(input(\"enter a basic salary:\"))\n",
    "\n",
    "#condition\n",
    "if bs<10000:\n",
    "    da,ta,inc=50,10,5000\n",
    "    \n",
    "elif bs<20000:\n",
    "    da,ta,inc=60,20,10000\n",
    "    \n",
    "elif bs<30000:\n",
    "    da,ta,inc=65,40,20000\n",
    "    \n",
    "else:\n",
    "    da,ta,inc=75,65,30000\n",
    "    \n",
    "#Arithemetic Expression\n",
    "\n",
    "da_total= da / 100*bs\n",
    "ta_total= ta / 100*bs\n",
    "\n",
    "total=bs+da_total+ta_total+inc\n",
    "\n",
    "#display Output\n",
    "print(\"--------salary slip-------------\")\n",
    "print(\"basic salary:\",bs)\n",
    "print(\"dearness allowance:\",da_total)\n",
    "print(\"travelling allowance:\",ta_total)\n",
    "print(\"incentive\",inc)\n",
    "\n",
    "print(\"total salary:\",total)"
   ]
  },
  {
   "cell_type": "code",
   "execution_count": 27,
   "id": "7dbfb8de",
   "metadata": {},
   "outputs": [
    {
     "name": "stdout",
     "output_type": "stream",
     "text": [
      "Enter username:om\n",
      "enter password:2334\n",
      "invalid crendetails\n"
     ]
    }
   ],
   "source": [
    "#WAP to verify username and password\n",
    "\n",
    "u='om'\n",
    "p='3456'\n",
    "username=input(\"Enter username:\")\n",
    "password=input(\"enter password:\")\n",
    "\n",
    "if username==u and password==p:\n",
    "    print(\"login successfully:\")\n",
    "else:\n",
    "    print(\"invalid crendetails\")"
   ]
  },
  {
   "cell_type": "code",
   "execution_count": 2,
   "id": "c7931bad",
   "metadata": {},
   "outputs": [
    {
     "name": "stdout",
     "output_type": "stream",
     "text": [
      "Enter a name of sudent:pawan\n",
      "enter a roll no:47\n",
      "Enter a marks of subject 1:67\n",
      "Enter a marks of subject 2:78\n",
      "Enter a marks of subject 3:78\n",
      "Enter a marks of subject 4:568\n",
      "Enter a marks of subject 5:69\n",
      "-------Markssheet-------\n",
      "Name\t: pawan    \t      exam number:47\n",
      "\n",
      "python\t 67\n",
      "JAVA\t 78\n",
      "DOT.NET\t 78\n",
      "ML\t 568\n",
      "DS\t 69\n",
      "-----------------------------------------\n",
      "total marks\t: 860\n",
      "percentage marks\t: 172.0 %   grade\t:A+\n"
     ]
    }
   ],
   "source": [
    "#WAP to display marksheet for 5 subjects having name,roll,marks of all subjects ,total marks,grade.\n",
    "# 90+: 'A+',80-90:,'A',70-80:'B+',60-70:'B',50-60:'c+'\n",
    "\n",
    "#Taking inputs\n",
    "\n",
    "name=input(\"Enter a name of sudent:\")\n",
    "rollno=input(\"enter a roll no:\")\n",
    "M1=int(input(\"Enter a marks of subject 1:\"))    #typecasting from string to integer\n",
    "M2=int(input(\"Enter a marks of subject 2:\"))\n",
    "M3=int(input(\"Enter a marks of subject 3:\"))\n",
    "M4=int(input(\"Enter a marks of subject 4:\"))\n",
    "M5=int(input(\"Enter a marks of subject 5:\"))\n",
    "\n",
    "#pass condition\n",
    "\n",
    "if M1>=40 and M2>=40 and M3>=40 and M4>=40 and M5>=40:\n",
    "    #total  marks\n",
    "    total=M1+M2+M3+M4+M5\n",
    "    \n",
    "    #PERCENTAGE MARKS\n",
    "    per=total/5\n",
    "    \n",
    "    # Grade \n",
    "    if per>=90:\n",
    "        gr='A+'\n",
    "        \n",
    "    elif per>=80:\n",
    "        gr='A'\n",
    "    elif per>=70:\n",
    "        gr='b+'\n",
    "    elif per>=60:\n",
    "        gr='b'\n",
    "    elif per>=50:\n",
    "        gr='c+'\n",
    "    else:\n",
    "        gr='c'\n",
    "        \n",
    " #if sudent is fail (condition)\n",
    "\n",
    "else:\n",
    "    total='---'\n",
    "    per='---'\n",
    "    gr='---'\n",
    "\n",
    "#display marksheet \n",
    "\n",
    "print(\"-------Markssheet-------\")\n",
    "print(f\"Name\\t: {name}    \\t      exam number:{rollno}\\n\")\n",
    "print(\"python\\t\",M1)\n",
    "print(\"JAVA\\t\",M2)\n",
    "print(\"DOT.NET\\t\",M3)\n",
    "print(\"ML\\t\",M4)\n",
    "print(\"DS\\t\",M5)\n",
    "print(\"-----------------------------------------\")\n",
    "\n",
    "print(f\"total marks\\t: {total}\")\n",
    "print(f\"percentage marks\\t: {per} %   grade\\t:{gr}\")\n",
    "\n",
    "\n",
    "\n",
    "    "
   ]
  },
  {
   "cell_type": "code",
   "execution_count": 4,
   "id": "ed604082",
   "metadata": {},
   "outputs": [
    {
     "name": "stdout",
     "output_type": "stream",
     "text": [
      "Enter Principal:20000\n",
      "enter tenure in days:365\n",
      "Enter age in years:65\n"
     ]
    },
    {
     "ename": "TypeError",
     "evalue": "can't multiply sequence by non-int of type 'float'",
     "output_type": "error",
     "traceback": [
      "\u001b[1;31m---------------------------------------------------------------------------\u001b[0m",
      "\u001b[1;31mTypeError\u001b[0m                                 Traceback (most recent call last)",
      "Cell \u001b[1;32mIn[4], line 59\u001b[0m\n\u001b[0;32m     56\u001b[0m         R\u001b[38;5;241m=\u001b[39m\u001b[38;5;241m7.5\u001b[39m\n\u001b[0;32m     58\u001b[0m \u001b[38;5;66;03m#Arithmetic expression \u001b[39;00m\n\u001b[1;32m---> 59\u001b[0m CI\u001b[38;5;241m=\u001b[39mP\u001b[38;5;241m*\u001b[39m(\u001b[38;5;241m1\u001b[39m\u001b[38;5;241m+\u001b[39m(R\u001b[38;5;241m/\u001b[39m\u001b[38;5;241m100\u001b[39m))\u001b[38;5;241m*\u001b[39m\u001b[38;5;241m*\u001b[39m(N\u001b[38;5;241m/\u001b[39m\u001b[38;5;241m365\u001b[39m)\n\u001b[0;32m     61\u001b[0m \u001b[38;5;66;03m#Display outcome\u001b[39;00m\n\u001b[0;32m     63\u001b[0m \u001b[38;5;28mprint\u001b[39m(\u001b[38;5;124m\"\u001b[39m\u001b[38;5;124mPrinciple Amount:\u001b[39m\u001b[38;5;124m\"\u001b[39m,P)\n",
      "\u001b[1;31mTypeError\u001b[0m: can't multiply sequence by non-int of type 'float'"
     ]
    }
   ],
   "source": [
    "#WAP to display final amount ,interset earns on fixed deposit for SBI.\n",
    "\n",
    "#                                 All     Senoir Citizen\n",
    "#7 days to 45 days                3.50    4.00\n",
    "#46 days to 179 days              5.50    6.00\n",
    "#180 days to 210 days             6.25    6.75\n",
    "#211 days to less than 1 year     6.50    7.00\n",
    "#1 Year to less than 2 years      6.80    7.30\n",
    "#2 years to less than 3 years     7.00    7.50\n",
    "#3 years to less than 5 years     6.75    7.25\n",
    "#5 years and up to 10 years       6.50    7.50*\n",
    "\n",
    "#Taking inputs\n",
    "\n",
    "P=input(\"Enter Principal:\")\n",
    "N=int(input(\"enter tenure in days:\"))\n",
    "age=int(input(\"Enter age in years:\"))\n",
    "\n",
    "\n",
    "if age<60:\n",
    "    \n",
    "#condition for ROI\n",
    "\n",
    "    if N>=7 and N<=45:\n",
    "        R=3.5\n",
    "    elif N<=179:\n",
    "        R=5.50\n",
    "    elif N<=210:\n",
    "        R=6.25\n",
    "    elif N<=365:\n",
    "        R=6.50\n",
    "    elif N<=730:\n",
    "        R=6.80\n",
    "    elif N<=1095:\n",
    "        R=7.00\n",
    "    elif N<=1825:\n",
    "        R=6.75\n",
    "    else:\n",
    "        R=6.50\n",
    "\n",
    "\n",
    "else:\n",
    "    if N>=7 and N<45:\n",
    "        R=4\n",
    "    elif N<=210:\n",
    "        R=6.75\n",
    "    elif N<=365:\n",
    "        R=7\n",
    "    elif N<=730:\n",
    "        R=7.3\n",
    "    elif N<=1095:\n",
    "        R=7.5\n",
    "    elif N<=1825:\n",
    "        R=7.25\n",
    "    else:\n",
    "        R=7.5\n",
    "        \n",
    "#Arithmetic expression \n",
    "CI=P*(1+(R/100))**(N/365)\n",
    "\n",
    "#Display outcome\n",
    "\n",
    "print(\"Principle Amount:\",P)\n",
    "print(\"Tenure:\",N,\"Days\")\n",
    "print(\"Rate of interest:\",R)\n",
    "print(\"Final amount:\",round(CI-P,2))\n",
    "        \n",
    "\n"
   ]
  },
  {
   "cell_type": "code",
   "execution_count": 5,
   "id": "eec4dfc4",
   "metadata": {},
   "outputs": [],
   "source": [
    "#WAP to calculate direct income from all sources as per new regime.\n"
   ]
  },
  {
   "cell_type": "code",
   "execution_count": 8,
   "id": "86c78552",
   "metadata": {},
   "outputs": [
    {
     "ename": "SyntaxError",
     "evalue": "leading zeros in decimal integer literals are not permitted; use an 0o prefix for octal integers (3486750229.py, line 5)",
     "output_type": "error",
     "traceback": [
      "\u001b[1;36m  Cell \u001b[1;32mIn[8], line 5\u001b[1;36m\u001b[0m\n\u001b[1;33m    Rs 2,50,001 - Rs 5,00,000                       5%\u001b[0m\n\u001b[1;37m            ^\u001b[0m\n\u001b[1;31mSyntaxError\u001b[0m\u001b[1;31m:\u001b[0m leading zeros in decimal integer literals are not permitted; use an 0o prefix for octal integers\n"
     ]
    }
   ],
   "source": [
    "Income Slabs                      Individuals (for all age categories)\n",
    "\n",
    "Up to Rs 2,50,000                               Nil\n",
    "\n",
    "Rs 2,50,001 - Rs 5,00,000                       5%\n",
    "\n",
    "Rs 5,00,001 - Rs 7,50,000                        10%\n",
    "\n",
    "Rs 7,50,001 - Rs 10,00,000                       15%\n",
    "\n",
    "Rs 10,00,001 - Rs 12,50,000                      20%\n",
    "\n",
    "Rs 12,50,001 - Rs 15,00,000                      25%\n",
    "\n",
    "Rs 15,00,001 and above                           30%"
   ]
  },
  {
   "cell_type": "code",
   "execution_count": null,
   "id": "01ba79cc",
   "metadata": {},
   "outputs": [],
   "source": [
    "#Taking input from user\n",
    "\n",
    "inc =int(input(\"Enter your Income:\"))\n",
    "\n",
    "if inc <=25000:\n",
    "    tax=0\n",
    "elif inc<=500000:\n",
    "    tax=5/100*(inc-250000)\n",
    "elif inc<=750000:\n",
    "    tax=12500+10/100*(inc-500000)\n",
    "elif inc<=1000000:\n",
    "    tax=37500+15/100*(inc-750000)\n",
    "elif inc<=1250000:\n",
    "    tax=75000+20/100*(inc-1000000)\n",
    "elif inc<=1500000:\n",
    "    tax=125000+25/100*(inc-1250000)\n",
    "else :\n",
    "    tax=187500+30/100*(inc-1500000)\n",
    "    \n",
    "    \n",
    "#Display outcome\n",
    "print(\"Tax Liablility:\",tax)"
   ]
  },
  {
   "cell_type": "code",
   "execution_count": null,
   "id": "5f161d25",
   "metadata": {},
   "outputs": [],
   "source": []
  }
 ],
 "metadata": {
  "kernelspec": {
   "display_name": "Python 3 (ipykernel)",
   "language": "python",
   "name": "python3"
  },
  "language_info": {
   "codemirror_mode": {
    "name": "ipython",
    "version": 3
   },
   "file_extension": ".py",
   "mimetype": "text/x-python",
   "name": "python",
   "nbconvert_exporter": "python",
   "pygments_lexer": "ipython3",
   "version": "3.11.3"
  }
 },
 "nbformat": 4,
 "nbformat_minor": 5
}
