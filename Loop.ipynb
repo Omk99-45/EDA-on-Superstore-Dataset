{
 "cells": [
  {
   "cell_type": "markdown",
   "id": "8b9d5fd1",
   "metadata": {},
   "source": [
    "#  Loop "
   ]
  },
  {
   "cell_type": "code",
   "execution_count": null,
   "id": "8952cafe",
   "metadata": {},
   "outputs": [],
   "source": [
    "# 1. for Loop\n",
    "# 2. while Loop "
   ]
  },
  {
   "cell_type": "code",
   "execution_count": null,
   "id": "f13944d0",
   "metadata": {},
   "outputs": [],
   "source": [
    "# Welcome To Seven Mentor"
   ]
  },
  {
   "cell_type": "code",
   "execution_count": null,
   "id": "7ce979ab",
   "metadata": {},
   "outputs": [],
   "source": [
    "print(\" Welcome to Seven Mentors ! \")\n",
    "print(\" \")"
   ]
  },
  {
   "cell_type": "markdown",
   "id": "90ee25f4",
   "metadata": {},
   "source": [
    "## for Loop "
   ]
  },
  {
   "cell_type": "code",
   "execution_count": null,
   "id": "07fe329e",
   "metadata": {},
   "outputs": [],
   "source": [
    "# Synatx : \n",
    "\n",
    "# for var in sequence : "
   ]
  },
  {
   "cell_type": "code",
   "execution_count": null,
   "id": "4c87f488",
   "metadata": {},
   "outputs": [],
   "source": [
    "# Sequence generator Function  : "
   ]
  },
  {
   "cell_type": "code",
   "execution_count": null,
   "id": "2470e156",
   "metadata": {},
   "outputs": [],
   "source": [
    "#range(start = 0 , stop (exclusive) , step = 1 )"
   ]
  },
  {
   "cell_type": "code",
   "execution_count": null,
   "id": "90abcbfd",
   "metadata": {},
   "outputs": [],
   "source": [
    "# Generate 1 to 10.\n",
    "\n",
    "list(range(1 , 11 ))"
   ]
  },
  {
   "cell_type": "code",
   "execution_count": null,
   "id": "8ee4cda4",
   "metadata": {},
   "outputs": [],
   "source": [
    "# Generate \n",
    "# 1. 1,100\n",
    "# 2. 101, 200\n",
    "# 3. 105, 110, 115, 300"
   ]
  },
  {
   "cell_type": "code",
   "execution_count": null,
   "id": "f1045219",
   "metadata": {},
   "outputs": [],
   "source": [
    "print(list(range(1, 101)))"
   ]
  },
  {
   "cell_type": "code",
   "execution_count": null,
   "id": "1bb7e51a",
   "metadata": {},
   "outputs": [],
   "source": [
    "print(list(range(101, 201)))"
   ]
  },
  {
   "cell_type": "code",
   "execution_count": null,
   "id": "4292ee19",
   "metadata": {},
   "outputs": [],
   "source": [
    "print(list(range(105, 301, 5)))"
   ]
  },
  {
   "cell_type": "code",
   "execution_count": null,
   "id": "59097a16",
   "metadata": {},
   "outputs": [],
   "source": [
    "# Example - 1 "
   ]
  },
  {
   "cell_type": "code",
   "execution_count": null,
   "id": "eca0b906",
   "metadata": {},
   "outputs": [],
   "source": [
    "# 1.  WAP to display (Traverse through)  1 to 10 numbers.\n",
    "\n",
    "for i in   range(1,11) : \n",
    "    print(i)"
   ]
  },
  {
   "cell_type": "code",
   "execution_count": null,
   "id": "9226a529",
   "metadata": {},
   "outputs": [],
   "source": [
    "# 2. WAP to display \"Welcome to Seven Mentors \" * 100 times.\n",
    "\n",
    "for i in range(101,201) : \n",
    "    print(f\"  \\t Welcome to Seven Mentors \")"
   ]
  },
  {
   "cell_type": "code",
   "execution_count": null,
   "id": "d9a8eabb",
   "metadata": {},
   "outputs": [],
   "source": [
    "# 3. WAP to display 222 to 333. \n",
    "\n",
    "for i in range(222 , 334)  :\n",
    "    print(i, end = \"  \\t  \")"
   ]
  },
  {
   "cell_type": "markdown",
   "id": "c620bdb0",
   "metadata": {},
   "source": [
    "####  Conditions in Loop "
   ]
  },
  {
   "cell_type": "code",
   "execution_count": null,
   "id": "9f364d68",
   "metadata": {},
   "outputs": [],
   "source": [
    "# 4.  WAP to display even number from 333 to 777.\n",
    "\n",
    "for i in range(333, 778) : \n",
    "    if i % 2 == 0 :\n",
    "        print(i, end = \"  \\t  \")"
   ]
  },
  {
   "cell_type": "code",
   "execution_count": null,
   "id": "bf3762e7",
   "metadata": {},
   "outputs": [],
   "source": [
    "# 5. WAP to display multiples of 7 from 234 to 678.\n",
    "\n",
    "for i in range(234, 679) : \n",
    "    if i % 7 == 0 :\n",
    "        print(i, end = \"\\t   \")"
   ]
  },
  {
   "cell_type": "code",
   "execution_count": null,
   "id": "30ececa6",
   "metadata": {},
   "outputs": [],
   "source": [
    "# 6. WAP to display multiples of 5, 7, 11 for all 4 digit numbers.\n",
    "\n",
    "for i in range(1000, 9999 + 1) : \n",
    "    if i % 5 == 0 and  i % 7 == 0 and i % 11 == 0: \n",
    "        print(i, end = \"\\t  \")"
   ]
  },
  {
   "cell_type": "code",
   "execution_count": null,
   "id": "5a2f3050",
   "metadata": {},
   "outputs": [],
   "source": [
    "# 7. WAP to display factors of 12.\n",
    "\n",
    "for n in range(1, 12 + 1) :\n",
    "    if 12 % n == 0 : \n",
    "        print(n)"
   ]
  },
  {
   "cell_type": "code",
   "execution_count": null,
   "id": "14d27c05",
   "metadata": {},
   "outputs": [],
   "source": [
    "# 8. WAP to display factors of number given by User.\n",
    "\n",
    "num =  int(input(\" Enter a Number : \"))     # Number given by User \n",
    "\n",
    "for i in range(1, num + 1 ) :               # Iterating i for factors :  i = 1,2,3,4,... num\n",
    "    if num % i == 0 :                       # To check factors of number entered by user\n",
    "        print(i, end = \"\\t\")                # Display factor       "
   ]
  },
  {
   "cell_type": "code",
   "execution_count": null,
   "id": "5cab3be2",
   "metadata": {},
   "outputs": [],
   "source": [
    "# 9.  WAP to display factors of number given by user and count them.\n",
    "\n",
    "c = 0        # counter initialization \n",
    "\n",
    "num = int(input(\" Enter a  Number : \"))\n",
    "\n",
    "for i in range(1, num + 1) :\n",
    "    if num % i == 0 :\n",
    "        print(i, end = \"\\t\")\n",
    "        \n",
    "        c = c + 1\n",
    "        \n",
    "print(\"\\n Count of Factors : \",  c)"
   ]
  },
  {
   "cell_type": "code",
   "execution_count": null,
   "id": "c186d744",
   "metadata": {},
   "outputs": [],
   "source": [
    "# WAp to check whether given number is prime.\n",
    "\n",
    "c = 0        # counter initialization \n",
    "\n",
    "num = int(input(\" Enter a  Number : \"))\n",
    "\n",
    "for i in range(1, num + 1) :\n",
    "    if num % i == 0 :\n",
    "        print(i, end = \"\\t\")\n",
    "        \n",
    "        c = c + 1\n",
    "        \n",
    "print(\"\\n Count of Factors : \",  c)\n",
    "\n",
    "# Check Prime Number \n",
    "\n",
    "if c == 2 : \n",
    "    print(\" Prime Number \")\n",
    "else :\n",
    "    print(\" Not a Prime Number \")"
   ]
  },
  {
   "cell_type": "code",
   "execution_count": 3,
   "id": "e983d372",
   "metadata": {},
   "outputs": [
    {
     "name": "stdout",
     "output_type": "stream",
     "text": [
      "Summation is :  55\n"
     ]
    }
   ],
   "source": [
    "#  WAP to find addition of 1 to 10. \n",
    "\n",
    "sum = 0 \n",
    "for i in range(1, 11) : \n",
    "    sum = sum + i\n",
    "    # print(\"Iteration\", i,\"              \",  i,\"              \",  sum )\n",
    "    \n",
    "print(\"Summation is : \", sum)"
   ]
  },
  {
   "cell_type": "code",
   "execution_count": 7,
   "id": "74afaef7",
   "metadata": {},
   "outputs": [
    {
     "name": "stdout",
     "output_type": "stream",
     "text": [
      "1575\n"
     ]
    }
   ],
   "source": [
    "#  WAP to find addition of 51 to 75.\n",
    "\n",
    "s = 0    # to store addition at every iteration.\n",
    "\n",
    "for i in range(51, 75+1) :\n",
    "    s = s + i\n",
    "    \n",
    "print(s)"
   ]
  },
  {
   "cell_type": "code",
   "execution_count": 13,
   "id": "80130401",
   "metadata": {},
   "outputs": [
    {
     "name": "stdout",
     "output_type": "stream",
     "text": [
      "4905\n"
     ]
    }
   ],
   "source": [
    "# WAp to add all 2 digit numbers.\n",
    "\n",
    "s = 0 \n",
    "for i in range(10 , 99 + 1) : \n",
    "    s += i                    # s = s + i\n",
    "    \n",
    "print(s)"
   ]
  },
  {
   "cell_type": "code",
   "execution_count": 18,
   "id": "a2eeb737",
   "metadata": {},
   "outputs": [
    {
     "name": "stdout",
     "output_type": "stream",
     "text": [
      "494550\n"
     ]
    }
   ],
   "source": [
    "# WAP to add all 3 digit numbers\n",
    "\n",
    "s = 0 \n",
    "\n",
    "for x in range(100, 999 + 1) : \n",
    "    s = s + x \n",
    "    \n",
    "print(s)"
   ]
  },
  {
   "cell_type": "code",
   "execution_count": 21,
   "id": "fd010af2",
   "metadata": {},
   "outputs": [
    {
     "name": "stdout",
     "output_type": "stream",
     "text": [
      "3685\n"
     ]
    }
   ],
   "source": [
    "# WAP to add all multiples of 5 in 111 to 222.\n",
    "\n",
    "s = 0\n",
    "for i in range(111, 222+1) :\n",
    "    if i % 5 == 0 : \n",
    "        s = s + i\n",
    "print(s)"
   ]
  },
  {
   "cell_type": "code",
   "execution_count": 23,
   "id": "579a7fb6",
   "metadata": {},
   "outputs": [
    {
     "name": "stdout",
     "output_type": "stream",
     "text": [
      " Enter a Number : 5\n",
      " Enter a Number : 55\n",
      "1530\n"
     ]
    }
   ],
   "source": [
    "# WAP to add all values given by user.\n",
    "\n",
    "n1 = int(input(\" Enter a Number : \"))\n",
    "n2 = int(input(\" Enter a Number : \"))\n",
    "s = 0 \n",
    "\n",
    "for i in range( n1 , n2 + 1) : \n",
    "    s = s + i\n",
    "    \n",
    "print(s)"
   ]
  },
  {
   "cell_type": "code",
   "execution_count": 24,
   "id": "9c15046e",
   "metadata": {},
   "outputs": [
    {
     "name": "stdout",
     "output_type": "stream",
     "text": [
      " Enter a Number : 0\n",
      " Enter a Number : 10\n",
      "30\n"
     ]
    }
   ],
   "source": [
    "# WAP to add all even numbers in the range given by user.\n",
    "\n",
    "n1 = int(input(\" Enter a Number : \"))\n",
    "n2 = int(input(\" Enter a Number : \"))\n",
    "s = 0 \n",
    "\n",
    "for i in range( n1 , n2 + 1) :\n",
    "    if i % 2 == 0 :\n",
    "        s = s + i\n",
    "    \n",
    "print(s)"
   ]
  },
  {
   "cell_type": "code",
   "execution_count": 28,
   "id": "a6becc3c",
   "metadata": {},
   "outputs": [
    {
     "name": "stdout",
     "output_type": "stream",
     "text": [
      " Enter a Number : 125\n",
      "1\n",
      "5\n",
      "25\n",
      "125\n",
      "Count =  4\n",
      "Sum   =  156\n"
     ]
    }
   ],
   "source": [
    "# WAP to find , count and sum of all factors of a number given by user.\n",
    "\n",
    "n1 = int(input(\" Enter a Number : \"))\n",
    "c = 0   # count\n",
    "s = 0   # Addition \n",
    "\n",
    "for i in range(1, n1+1) :\n",
    "    if n1 % i== 0 : \n",
    "        print(i)\n",
    "        c = c + 1   # counting Factors\n",
    "        s = s + i   # Addition of factors \n",
    "        \n",
    "print(\"Count = \", c)\n",
    "print(\"Sum   = \", s)"
   ]
  },
  {
   "cell_type": "code",
   "execution_count": 31,
   "id": "89ccba3a",
   "metadata": {},
   "outputs": [
    {
     "name": "stdout",
     "output_type": "stream",
     "text": [
      " Enter a Number : 6\n",
      "6 ! =  720\n"
     ]
    }
   ],
   "source": [
    "# Factorial of number.\n",
    "\n",
    "# 4! = 4 * 3 * 2 * 1 = 24\n",
    "\n",
    "n1 = int(input(\" Enter a Number : \"))\n",
    "\n",
    "f = 1                    # Factorial \n",
    "for i in range(1, n1+1) :\n",
    "    f = f * i \n",
    "\n",
    "print(n1, \"! = \", f)"
   ]
  },
  {
   "cell_type": "code",
   "execution_count": 9,
   "id": "2fd7106b",
   "metadata": {},
   "outputs": [],
   "source": [
    "# Data Manipulation\n",
    "\n",
    "import pandas as pd "
   ]
  },
  {
   "cell_type": "code",
   "execution_count": 10,
   "id": "2b106f10",
   "metadata": {},
   "outputs": [],
   "source": [
    "df =  pd.read_csv('train.csv')"
   ]
  },
  {
   "cell_type": "code",
   "execution_count": 11,
   "id": "21f48992",
   "metadata": {},
   "outputs": [
    {
     "data": {
      "text/html": [
       "<div>\n",
       "<style scoped>\n",
       "    .dataframe tbody tr th:only-of-type {\n",
       "        vertical-align: middle;\n",
       "    }\n",
       "\n",
       "    .dataframe tbody tr th {\n",
       "        vertical-align: top;\n",
       "    }\n",
       "\n",
       "    .dataframe thead th {\n",
       "        text-align: right;\n",
       "    }\n",
       "</style>\n",
       "<table border=\"1\" class=\"dataframe\">\n",
       "  <thead>\n",
       "    <tr style=\"text-align: right;\">\n",
       "      <th></th>\n",
       "      <th>PassengerId</th>\n",
       "      <th>Survived</th>\n",
       "      <th>Pclass</th>\n",
       "      <th>Name</th>\n",
       "      <th>Sex</th>\n",
       "      <th>Age</th>\n",
       "      <th>SibSp</th>\n",
       "      <th>Parch</th>\n",
       "      <th>Ticket</th>\n",
       "      <th>Fare</th>\n",
       "      <th>Cabin</th>\n",
       "      <th>Embarked</th>\n",
       "    </tr>\n",
       "  </thead>\n",
       "  <tbody>\n",
       "    <tr>\n",
       "      <th>0</th>\n",
       "      <td>1</td>\n",
       "      <td>0</td>\n",
       "      <td>3</td>\n",
       "      <td>Braund, Mr. Owen Harris</td>\n",
       "      <td>male</td>\n",
       "      <td>22.0</td>\n",
       "      <td>1</td>\n",
       "      <td>0</td>\n",
       "      <td>A/5 21171</td>\n",
       "      <td>7.2500</td>\n",
       "      <td>NaN</td>\n",
       "      <td>S</td>\n",
       "    </tr>\n",
       "    <tr>\n",
       "      <th>1</th>\n",
       "      <td>2</td>\n",
       "      <td>1</td>\n",
       "      <td>1</td>\n",
       "      <td>Cumings, Mrs. John Bradley (Florence Briggs Th...</td>\n",
       "      <td>female</td>\n",
       "      <td>38.0</td>\n",
       "      <td>1</td>\n",
       "      <td>0</td>\n",
       "      <td>PC 17599</td>\n",
       "      <td>71.2833</td>\n",
       "      <td>C85</td>\n",
       "      <td>C</td>\n",
       "    </tr>\n",
       "    <tr>\n",
       "      <th>2</th>\n",
       "      <td>3</td>\n",
       "      <td>1</td>\n",
       "      <td>3</td>\n",
       "      <td>Heikkinen, Miss. Laina</td>\n",
       "      <td>female</td>\n",
       "      <td>26.0</td>\n",
       "      <td>0</td>\n",
       "      <td>0</td>\n",
       "      <td>STON/O2. 3101282</td>\n",
       "      <td>7.9250</td>\n",
       "      <td>NaN</td>\n",
       "      <td>S</td>\n",
       "    </tr>\n",
       "    <tr>\n",
       "      <th>3</th>\n",
       "      <td>4</td>\n",
       "      <td>1</td>\n",
       "      <td>1</td>\n",
       "      <td>Futrelle, Mrs. Jacques Heath (Lily May Peel)</td>\n",
       "      <td>female</td>\n",
       "      <td>35.0</td>\n",
       "      <td>1</td>\n",
       "      <td>0</td>\n",
       "      <td>113803</td>\n",
       "      <td>53.1000</td>\n",
       "      <td>C123</td>\n",
       "      <td>S</td>\n",
       "    </tr>\n",
       "    <tr>\n",
       "      <th>4</th>\n",
       "      <td>5</td>\n",
       "      <td>0</td>\n",
       "      <td>3</td>\n",
       "      <td>Allen, Mr. William Henry</td>\n",
       "      <td>male</td>\n",
       "      <td>35.0</td>\n",
       "      <td>0</td>\n",
       "      <td>0</td>\n",
       "      <td>373450</td>\n",
       "      <td>8.0500</td>\n",
       "      <td>NaN</td>\n",
       "      <td>S</td>\n",
       "    </tr>\n",
       "    <tr>\n",
       "      <th>...</th>\n",
       "      <td>...</td>\n",
       "      <td>...</td>\n",
       "      <td>...</td>\n",
       "      <td>...</td>\n",
       "      <td>...</td>\n",
       "      <td>...</td>\n",
       "      <td>...</td>\n",
       "      <td>...</td>\n",
       "      <td>...</td>\n",
       "      <td>...</td>\n",
       "      <td>...</td>\n",
       "      <td>...</td>\n",
       "    </tr>\n",
       "    <tr>\n",
       "      <th>886</th>\n",
       "      <td>887</td>\n",
       "      <td>0</td>\n",
       "      <td>2</td>\n",
       "      <td>Montvila, Rev. Juozas</td>\n",
       "      <td>male</td>\n",
       "      <td>27.0</td>\n",
       "      <td>0</td>\n",
       "      <td>0</td>\n",
       "      <td>211536</td>\n",
       "      <td>13.0000</td>\n",
       "      <td>NaN</td>\n",
       "      <td>S</td>\n",
       "    </tr>\n",
       "    <tr>\n",
       "      <th>887</th>\n",
       "      <td>888</td>\n",
       "      <td>1</td>\n",
       "      <td>1</td>\n",
       "      <td>Graham, Miss. Margaret Edith</td>\n",
       "      <td>female</td>\n",
       "      <td>19.0</td>\n",
       "      <td>0</td>\n",
       "      <td>0</td>\n",
       "      <td>112053</td>\n",
       "      <td>30.0000</td>\n",
       "      <td>B42</td>\n",
       "      <td>S</td>\n",
       "    </tr>\n",
       "    <tr>\n",
       "      <th>888</th>\n",
       "      <td>889</td>\n",
       "      <td>0</td>\n",
       "      <td>3</td>\n",
       "      <td>Johnston, Miss. Catherine Helen \"Carrie\"</td>\n",
       "      <td>female</td>\n",
       "      <td>NaN</td>\n",
       "      <td>1</td>\n",
       "      <td>2</td>\n",
       "      <td>W./C. 6607</td>\n",
       "      <td>23.4500</td>\n",
       "      <td>NaN</td>\n",
       "      <td>S</td>\n",
       "    </tr>\n",
       "    <tr>\n",
       "      <th>889</th>\n",
       "      <td>890</td>\n",
       "      <td>1</td>\n",
       "      <td>1</td>\n",
       "      <td>Behr, Mr. Karl Howell</td>\n",
       "      <td>male</td>\n",
       "      <td>26.0</td>\n",
       "      <td>0</td>\n",
       "      <td>0</td>\n",
       "      <td>111369</td>\n",
       "      <td>30.0000</td>\n",
       "      <td>C148</td>\n",
       "      <td>C</td>\n",
       "    </tr>\n",
       "    <tr>\n",
       "      <th>890</th>\n",
       "      <td>891</td>\n",
       "      <td>0</td>\n",
       "      <td>3</td>\n",
       "      <td>Dooley, Mr. Patrick</td>\n",
       "      <td>male</td>\n",
       "      <td>32.0</td>\n",
       "      <td>0</td>\n",
       "      <td>0</td>\n",
       "      <td>370376</td>\n",
       "      <td>7.7500</td>\n",
       "      <td>NaN</td>\n",
       "      <td>Q</td>\n",
       "    </tr>\n",
       "  </tbody>\n",
       "</table>\n",
       "<p>891 rows × 12 columns</p>\n",
       "</div>"
      ],
      "text/plain": [
       "     PassengerId  Survived  Pclass  \\\n",
       "0              1         0       3   \n",
       "1              2         1       1   \n",
       "2              3         1       3   \n",
       "3              4         1       1   \n",
       "4              5         0       3   \n",
       "..           ...       ...     ...   \n",
       "886          887         0       2   \n",
       "887          888         1       1   \n",
       "888          889         0       3   \n",
       "889          890         1       1   \n",
       "890          891         0       3   \n",
       "\n",
       "                                                  Name     Sex   Age  SibSp  \\\n",
       "0                              Braund, Mr. Owen Harris    male  22.0      1   \n",
       "1    Cumings, Mrs. John Bradley (Florence Briggs Th...  female  38.0      1   \n",
       "2                               Heikkinen, Miss. Laina  female  26.0      0   \n",
       "3         Futrelle, Mrs. Jacques Heath (Lily May Peel)  female  35.0      1   \n",
       "4                             Allen, Mr. William Henry    male  35.0      0   \n",
       "..                                                 ...     ...   ...    ...   \n",
       "886                              Montvila, Rev. Juozas    male  27.0      0   \n",
       "887                       Graham, Miss. Margaret Edith  female  19.0      0   \n",
       "888           Johnston, Miss. Catherine Helen \"Carrie\"  female   NaN      1   \n",
       "889                              Behr, Mr. Karl Howell    male  26.0      0   \n",
       "890                                Dooley, Mr. Patrick    male  32.0      0   \n",
       "\n",
       "     Parch            Ticket     Fare Cabin Embarked  \n",
       "0        0         A/5 21171   7.2500   NaN        S  \n",
       "1        0          PC 17599  71.2833   C85        C  \n",
       "2        0  STON/O2. 3101282   7.9250   NaN        S  \n",
       "3        0            113803  53.1000  C123        S  \n",
       "4        0            373450   8.0500   NaN        S  \n",
       "..     ...               ...      ...   ...      ...  \n",
       "886      0            211536  13.0000   NaN        S  \n",
       "887      0            112053  30.0000   B42        S  \n",
       "888      2        W./C. 6607  23.4500   NaN        S  \n",
       "889      0            111369  30.0000  C148        C  \n",
       "890      0            370376   7.7500   NaN        Q  \n",
       "\n",
       "[891 rows x 12 columns]"
      ]
     },
     "execution_count": 11,
     "metadata": {},
     "output_type": "execute_result"
    }
   ],
   "source": [
    "df"
   ]
  },
  {
   "cell_type": "code",
   "execution_count": 47,
   "id": "3dc788b3",
   "metadata": {},
   "outputs": [],
   "source": [
    "df['Name']"
   ]
  },
  {
   "cell_type": "code",
   "execution_count": 55,
   "id": "79ed3ebd",
   "metadata": {},
   "outputs": [
    {
     "name": "stdout",
     "output_type": "stream",
     "text": [
      "Count of Males :  577\n"
     ]
    }
   ],
   "source": [
    "# 1. WAP to count total male.\n",
    "\n",
    "c = 0               # count male\n",
    "for i in df['Sex'] : \n",
    "    if i == 'male' : \n",
    "        c = c + 1\n",
    "print(\"Count of Males : \", c)       "
   ]
  },
  {
   "cell_type": "code",
   "execution_count": 54,
   "id": "ab8eb794",
   "metadata": {},
   "outputs": [
    {
     "name": "stdout",
     "output_type": "stream",
     "text": [
      " Count of Females :  314\n"
     ]
    }
   ],
   "source": [
    "# 2. WAP to count total female.\n",
    "\n",
    "c1 = 0 \n",
    "\n",
    "for i in df['Sex'] : \n",
    "    if i == 'female' : \n",
    "        c1 = c1 + 1\n",
    "        \n",
    "print(\" Count of Females : \", c1)"
   ]
  },
  {
   "cell_type": "code",
   "execution_count": 12,
   "id": "092a0a0c",
   "metadata": {},
   "outputs": [
    {
     "ename": "NameError",
     "evalue": "name 'c' is not defined",
     "output_type": "error",
     "traceback": [
      "\u001b[1;31m---------------------------------------------------------------------------\u001b[0m",
      "\u001b[1;31mNameError\u001b[0m                                 Traceback (most recent call last)",
      "Cell \u001b[1;32mIn[12], line 3\u001b[0m\n\u001b[0;32m      1\u001b[0m \u001b[38;5;66;03m# Percentage Count\u001b[39;00m\n\u001b[1;32m----> 3\u001b[0m \u001b[38;5;28mprint\u001b[39m(\u001b[38;5;124m\"\u001b[39m\u001b[38;5;124m \u001b[39m\u001b[38;5;124m%\u001b[39m\u001b[38;5;124m Male Count   : \u001b[39m\u001b[38;5;124m\"\u001b[39m, \u001b[38;5;28mround\u001b[39m(c \u001b[38;5;241m/\u001b[39m \u001b[38;5;241m891\u001b[39m  \u001b[38;5;241m*\u001b[39m \u001b[38;5;241m100\u001b[39m , \u001b[38;5;241m2\u001b[39m))\n\u001b[0;32m      4\u001b[0m \u001b[38;5;28mprint\u001b[39m(\u001b[38;5;124m\"\u001b[39m\u001b[38;5;124m \u001b[39m\u001b[38;5;132;01m% F\u001b[39;00m\u001b[38;5;124memale Count : \u001b[39m\u001b[38;5;124m\"\u001b[39m, \u001b[38;5;28mround\u001b[39m(c1 \u001b[38;5;241m/\u001b[39m \u001b[38;5;241m891\u001b[39m  \u001b[38;5;241m*\u001b[39m \u001b[38;5;241m100\u001b[39m , \u001b[38;5;241m2\u001b[39m))\n",
      "\u001b[1;31mNameError\u001b[0m: name 'c' is not defined"
     ]
    }
   ],
   "source": [
    "# Percentage Count\n",
    "\n",
    "print(\" % Male Count   : \", round(c / 891  * 100 , 2))\n",
    "print(\" % Female Count : \", round(c1 / 891  * 100 , 2))"
   ]
  },
  {
   "cell_type": "code",
   "execution_count": 13,
   "id": "f5c0b86b",
   "metadata": {},
   "outputs": [
    {
     "name": "stdout",
     "output_type": "stream",
     "text": [
      "Count of Class - 1 Passengers :  216  \t Percentage :  24.24 %\n",
      "Count of Class - 2 Passengers :  184  \t Percentage :  20.65 %\n",
      "Count of Class - 3 Passengers :  491  \t Percentage :  55.11 %\n"
     ]
    }
   ],
   "source": [
    "# 2. WAp to display total passengers travelling in each class.\n",
    "\n",
    "c1, c2, c3 = 0, 0, 0 \n",
    "for i in df['Pclass'] : \n",
    "    if i == 1 :          # Condition for class 1 \n",
    "        c1 = c1 + 1\n",
    "    elif i == 2 :        # Condition for class 2 \n",
    "        c2 =c2 + 1\n",
    "    else :               # else class 3\n",
    "        c3 = c3 + 1\n",
    "        \n",
    "        \n",
    "print(\"Count of Class - 1 Passengers : \", c1, \" \\t Percentage : \", round(c1/891 * 100 , 2), \"%\" )\n",
    "print(\"Count of Class - 2 Passengers : \", c2, \" \\t Percentage : \", round(c2/891 * 100 , 2), \"%\" )\n",
    "print(\"Count of Class - 3 Passengers : \", c3, \" \\t Percentage : \", round(c3/891 * 100 , 2), \"%\" )"
   ]
  },
  {
   "cell_type": "code",
   "execution_count": 24,
   "id": "3b14d0ac",
   "metadata": {},
   "outputs": [
    {
     "name": "stdout",
     "output_type": "stream",
     "text": [
      "Count of Non Survived :  549\n",
      "Count of     Survived :  342\n",
      "% Count of Non Survived :  61.62 %\n",
      "% Count of     Survived :  38.38 %\n"
     ]
    }
   ],
   "source": [
    "# 3. Count and percentage count of  of Survived / Non Survived Passengers.    # 0 : not survived   1 : survived \n",
    "\n",
    "c1, c2 = 0, 0 \n",
    "for i in df['Survived'] :\n",
    "    if i == 0 : \n",
    "        c1 = c1 + 1\n",
    "    else : \n",
    "        c2 = c2 + 1 \n",
    "        \n",
    "print(\"Count of Non Survived : \", c1)      \n",
    "print(\"Count of     Survived : \", c2) \n",
    "\n",
    "        \n",
    "print(\"% Count of Non Survived : \", round(c1 / 891 * 100, 2), \"%\" )      \n",
    "print(\"% Count of     Survived : \", round(c2 / 891 * 100, 2), \"%\" )"
   ]
  },
  {
   "cell_type": "code",
   "execution_count": 33,
   "id": "c127ca66",
   "metadata": {},
   "outputs": [
    {
     "name": "stdout",
     "output_type": "stream",
     "text": [
      "Average Ticket Cost :  32.2\n"
     ]
    }
   ],
   "source": [
    "# 4. WAP to display average ticket cost.    average = total / count \n",
    "\n",
    "sum = 0 \n",
    "for i in df['Fare'] :\n",
    "    sum = sum + i \n",
    "    \n",
    "print(\"Average Ticket Cost : \", round(sum / 891 , 2))"
   ]
  },
  {
   "cell_type": "code",
   "execution_count": 39,
   "id": "2b7a745a",
   "metadata": {},
   "outputs": [
    {
     "name": "stdout",
     "output_type": "stream",
     "text": [
      " Average Age :  29.7\n"
     ]
    }
   ],
   "source": [
    "# 5. Average age of passengers.\n",
    "\n",
    "s = 0    # Total Age\n",
    "c = 0    # Count Passengers\n",
    "\n",
    "for i in df['Age'] : \n",
    "    if i > 0 : \n",
    "        # print(i, end = \"\\t\")\n",
    "        \n",
    "        s = s + i    # Total Age \n",
    "        c = c + 1    # Count Passengers \n",
    "        \n",
    "print(\" Average Age : \", round(s / c, 2))"
   ]
  },
  {
   "cell_type": "code",
   "execution_count": 40,
   "id": "cedb5ea0",
   "metadata": {},
   "outputs": [
    {
     "data": {
      "text/plain": [
       "29.69911764705882"
      ]
     },
     "execution_count": 40,
     "metadata": {},
     "output_type": "execute_result"
    }
   ],
   "source": [
    "df['Age'].mean()"
   ]
  },
  {
   "cell_type": "code",
   "execution_count": 55,
   "id": "70bf06a8",
   "metadata": {},
   "outputs": [
    {
     "name": "stdout",
     "output_type": "stream",
     "text": [
      " Male  : \n",
      " Non Survived  : 468  \t Percentage Non Survived : 52.53 %\n",
      "     Survived  : 109  \t Percentage     Survived : 12.23 %\n",
      "\n",
      " Female : \n",
      " Non Survived  : 81  \t Percentage Non Survived : 9.09 %\n",
      "     Survived  : 233  \t Percentage     Survived : 26.15 %\n"
     ]
    }
   ],
   "source": [
    "# 6. Display Sex wise Survival Status of Passengers.\n",
    "\n",
    "c1, c2,  = 0, 0    # Male   status\n",
    "c3, c4   = 0, 0    # Female Status\n",
    "for i, j  in  zip(df['Survived'], df['Sex']) : \n",
    "    \n",
    "    # Male \n",
    "    if j == 'male' and i == 0 : \n",
    "        c1 = c1 + 1                      # Non Survived Male \n",
    "    elif j == 'male' and i == 1 : \n",
    "        c2 = c2 + 1                       # Survived Males\n",
    "        \n",
    "    # Female \n",
    "    elif j == 'female' and i == 0 : \n",
    "        c3 = c3 + 1                      # Non Survived Female\n",
    "    else : \n",
    "        c4 = c4 + 1                      # Survived Female \n",
    "        \n",
    "print(\" Male  : \")   \n",
    "print(f\" Non Survived  : {c1}  \\t Percentage Non Survived : {round (c1 / 891 * 100 , 2)} %\") \n",
    "print(f\"     Survived  : {c2}  \\t Percentage     Survived : {round (c2 / 891 * 100 , 2)} %\")\n",
    "\n",
    "print(\"\\n Female : \")\n",
    "print(f\" Non Survived  : {c3}  \\t Percentage Non Survived : {round (c3 / 891 * 100 , 2)} %\") \n",
    "print(f\"     Survived  : {c4}  \\t Percentage     Survived : {round (c4 / 891 * 100 , 2)} %\")"
   ]
  },
  {
   "cell_type": "code",
   "execution_count": null,
   "id": "59082200",
   "metadata": {},
   "outputs": [],
   "source": []
  },
  {
   "cell_type": "markdown",
   "id": "cfef58de",
   "metadata": {},
   "source": [
    "##  Loop within Loop "
   ]
  },
  {
   "cell_type": "code",
   "execution_count": 58,
   "id": "11fe596e",
   "metadata": {},
   "outputs": [],
   "source": [
    "# Example : "
   ]
  },
  {
   "cell_type": "code",
   "execution_count": 60,
   "id": "09d3597e",
   "metadata": {},
   "outputs": [
    {
     "name": "stdout",
     "output_type": "stream",
     "text": [
      "Iteration  1 \t 0 0\n",
      "Iteration  2 \t 0 1\n",
      "Iteration  3 \t 0 2\n",
      "Iteration  4 \t 0 3\n",
      "Iteration  5 \t 1 0\n",
      "Iteration  6 \t 1 1\n",
      "Iteration  7 \t 1 2\n",
      "Iteration  8 \t 1 3\n",
      "Iteration  9 \t 2 0\n",
      "Iteration  10 \t 2 1\n",
      "Iteration  11 \t 2 2\n",
      "Iteration  12 \t 2 3\n",
      "Iteration  13 \t 3 0\n",
      "Iteration  14 \t 3 1\n",
      "Iteration  15 \t 3 2\n",
      "Iteration  16 \t 3 3\n"
     ]
    }
   ],
   "source": [
    "# Traverse through 4,4 Matrix.    rows = 4      columns = 4\n",
    "c = 0 \n",
    "for i in range(4) :             # Rows \n",
    "    for j in range(4) :         # Columns \n",
    "        c = c + 1               # Iteration Count \n",
    "        \n",
    "        print(\"Iteration \", c, \"\\t\",  i, j)"
   ]
  },
  {
   "cell_type": "code",
   "execution_count": 65,
   "id": "12794c47",
   "metadata": {},
   "outputs": [
    {
     "name": "stdout",
     "output_type": "stream",
     "text": [
      "0 0 *\t0 1 *\t0 2 *\t0 3 *\t0 4 *\t\n",
      "1 0 *\t1 1 *\t1 2 *\t1 3 *\t1 4 *\t\n",
      "2 0 *\t2 1 *\t2 2 *\t2 3 *\t2 4 *\t\n",
      "3 0 *\t3 1 *\t3 2 *\t3 3 *\t3 4 *\t\n"
     ]
    }
   ],
   "source": [
    "# WAP to display \n",
    "\n",
    "\"\"\"\n",
    "0    1    2    3    4  \n",
    "*    *    *    *    *   0\n",
    "*    *    *    *    *   1\n",
    "*    *    *    *    *   2\n",
    "*    *    *    *    *   3\n",
    "row = 4  columns = 5 \n",
    "\n",
    "\"\"\"\n",
    "\n",
    "for i in range(4) :                # Rows \n",
    "    for j in range(5) :            # Columns \n",
    "        print(i,j , \"*\", end = \"\\t\")\n",
    "    print()"
   ]
  },
  {
   "cell_type": "code",
   "execution_count": 68,
   "id": "9c9d8d2a",
   "metadata": {},
   "outputs": [
    {
     "name": "stdout",
     "output_type": "stream",
     "text": [
      "*\t*\t*\t*\t*\t\n",
      "*\t*\t*\t*\t*\t\n",
      "*\t*\t*\t*\t*\t\n",
      "*\t*\t*\t*\t*\t\n",
      "*\t*\t*\t*\t*\t\n",
      "*\t*\t*\t*\t*\t\n",
      "*\t*\t*\t*\t*\t\n"
     ]
    }
   ],
   "source": [
    "# WAp to display matrix of 7,5 with  \"*\" .\n",
    "\n",
    "#  Rows = 7    Columns = 5\n",
    "\n",
    "for i in range(7) :         # Rows     i = 0,1,2,3,.. 6\n",
    "    for j in range(5) :     # Columns  j = 0, 1, 2, 3, 4\n",
    "        print(\"*\", end = \"\\t\")\n",
    "    print()\n",
    "        \n",
    "    "
   ]
  },
  {
   "cell_type": "code",
   "execution_count": 72,
   "id": "a70b7e90",
   "metadata": {},
   "outputs": [
    {
     "name": "stdout",
     "output_type": "stream",
     "text": [
      "#\t#\t#\t\n",
      "#\t#\t#\t\n",
      "#\t#\t#\t\n",
      "#\t#\t#\t\n",
      "#\t#\t#\t\n",
      "#\t#\t#\t\n",
      "#\t#\t#\t\n",
      "#\t#\t#\t\n",
      "#\t#\t#\t\n",
      "#\t#\t#\t\n",
      "#\t#\t#\t\n",
      "#\t#\t#\t\n",
      "#\t#\t#\t\n",
      "#\t#\t#\t\n",
      "#\t#\t#\t\n"
     ]
    }
   ],
   "source": [
    "# WAp to display matrix of 15, 3 with \"#\".\n",
    "# Rows = 15      Columns = 3 \n",
    "\n",
    "for i in range(15) :             # Rows i = 0,1,2, .. , 14\n",
    "    for j in range(3) :          # Columns j = 0, 1, 2\n",
    "        print(\"#\", end = \"\\t\")\n",
    "    print()\n"
   ]
  },
  {
   "cell_type": "code",
   "execution_count": 76,
   "id": "f332e069",
   "metadata": {},
   "outputs": [
    {
     "name": "stdout",
     "output_type": "stream",
     "text": [
      "abc,pqr\n",
      "xyz\n"
     ]
    }
   ],
   "source": [
    "print(\"abc\", end = \",\")\n",
    "print(\"pqr\", end = \"\")\n",
    "print(\"xyz\")"
   ]
  },
  {
   "cell_type": "code",
   "execution_count": 4,
   "id": "68d99a3d",
   "metadata": {},
   "outputs": [
    {
     "name": "stdout",
     "output_type": "stream",
     "text": [
      "*\t*\t*\t*\t*\t\n",
      "*\t*\t*\t*\t*\t\n",
      "*\t*\t*\t*\t*\t\n",
      "*\t*\t*\t*\t*\t\n",
      "*\t*\t*\t*\t*\t\n"
     ]
    }
   ],
   "source": [
    "# WAP to display \"*\" pattern of matrix  5*5.\n",
    "\n",
    "# Rows=5   Columns = 5\n",
    "\n",
    "for i in range(5) :          # Rows \n",
    "    for j in range(5) :      # Columns\n",
    "        print(\"*\", end = \"\\t\")\n",
    "    print()\n",
    "    "
   ]
  },
  {
   "cell_type": "code",
   "execution_count": 10,
   "id": "f77e842c",
   "metadata": {},
   "outputs": [
    {
     "name": "stdout",
     "output_type": "stream",
     "text": [
      "1\t2\t3\t4\t5\t\n",
      "1\t2\t3\t4\t5\t\n",
      "1\t2\t3\t4\t5\t\n",
      "1\t2\t3\t4\t5\t\n",
      "1\t2\t3\t4\t5\t\n",
      "1\t2\t3\t4\t5\t\n"
     ]
    }
   ],
   "source": [
    "# WAp to display \n",
    "\n",
    "\"\"\"\n",
    "1   2   3   4    5\n",
    "1   2   3   4    5\n",
    "1   2   3   4    5\n",
    "1   2   3   4    5\n",
    "1   2   3   4    5\n",
    "1   2   3   4    5\n",
    "Rows = 6        Columns = 5\n",
    "\"\"\"\n",
    "for i in range(6) :                 # Rows     i = 0,1,2,3,4,5\n",
    "    for j in range(5) :             # Columns  j = 0,1,2,3,4\n",
    "        print(j+1, end = \"\\t\")\n",
    "    print()\n"
   ]
  },
  {
   "cell_type": "code",
   "execution_count": 15,
   "id": "58f15067",
   "metadata": {},
   "outputs": [
    {
     "name": "stdout",
     "output_type": "stream",
     "text": [
      "101\t102\t103\t104\t\n",
      "102\t103\t104\t105\t\n",
      "103\t104\t105\t106\t\n",
      "104\t105\t106\t107\t\n",
      "105\t106\t107\t108\t\n"
     ]
    }
   ],
   "source": [
    "# WAP to display \n",
    "\"\"\"\n",
    "101  102  103  104\n",
    "102  103  104  105\n",
    "103  104  105  106\n",
    "104  105  106  107\n",
    "105  106  107  108                  Rows = 5    Columns = 4\n",
    "\"\"\"\n",
    "for i in range(5) :                 # i = 0, 1, 2, 3, 4\n",
    "    for j in range(4) :             # j = 0, 1, 2, 3\n",
    "        print(i+j+1+100, end = \"\\t\")\n",
    "    print()"
   ]
  },
  {
   "cell_type": "code",
   "execution_count": 22,
   "id": "8801f834",
   "metadata": {},
   "outputs": [
    {
     "ename": "SyntaxError",
     "evalue": "incomplete input (2237619730.py, line 7)",
     "output_type": "error",
     "traceback": [
      "\u001b[1;36m  Cell \u001b[1;32mIn[22], line 7\u001b[1;36m\u001b[0m\n\u001b[1;33m    #print()\u001b[0m\n\u001b[1;37m            ^\u001b[0m\n\u001b[1;31mSyntaxError\u001b[0m\u001b[1;31m:\u001b[0m incomplete input\n"
     ]
    }
   ],
   "source": [
    "# WAP to display table of 2 to 30.\n",
    "\n",
    "# i = 1, 2,3,4,... 10                  j = 2, 3, 4, ... 30\n",
    "for n in range(2, 31) :             # Numbers  = 2,3,... 30\n",
    "    for i in range(1,11) :          #        i = 1,2,3, .. , 10 \n",
    "        print(n * i, end = \"\\t\")\n",
    "    print()"
   ]
  },
  {
   "cell_type": "code",
   "execution_count": null,
   "id": "3c2ec9b9",
   "metadata": {},
   "outputs": [],
   "source": [
    "#  WAP to display factorial of first 2, 10 numbers.\n",
    "\n",
    "\n",
    "for n in range(1, 10+1) :      # n = 1,2,3,4,... , 10   Numbers \n",
    "    f = 1    # Factorial\n",
    "    for i in range(1,n+1) :    # i = 1, ... , n\n",
    "        f = f * i              \n",
    "    \n",
    "    print(n, \"! = \", f)"
   ]
  },
  {
   "cell_type": "markdown",
   "id": "73b82b09",
   "metadata": {},
   "source": [
    "####  Conditions in Loop within Loop"
   ]
  },
  {
   "cell_type": "code",
   "execution_count": 29,
   "id": "3387669f",
   "metadata": {},
   "outputs": [
    {
     "name": "stdout",
     "output_type": "stream",
     "text": [
      "*\t\n",
      "*\t*\t\n",
      "*\t*\t*\t\n",
      "*\t*\t*\t*\t\n",
      "*\t*\t*\t*\t*\t\n"
     ]
    }
   ],
   "source": [
    "# WAP to Display \n",
    "\n",
    "\"\"\"\n",
    "*   \n",
    "*  *\n",
    "*  *  *\n",
    "*  *  *  *\n",
    "*  *  *  *  *\n",
    "Rows = 5    Columns = 5\n",
    "\"\"\"\n",
    "\n",
    "for i in range(5) : \n",
    "    for  j in range(5) : \n",
    "        if i >= j : \n",
    "            print(\"*\", end = \"\\t\")\n",
    "    print()"
   ]
  },
  {
   "cell_type": "code",
   "execution_count": 31,
   "id": "f70ebd8a",
   "metadata": {},
   "outputs": [
    {
     "name": "stdout",
     "output_type": "stream",
     "text": [
      "\n",
      "*\n",
      "**\n",
      "***\n",
      "****\n",
      "*****\n"
     ]
    }
   ],
   "source": [
    "for i in range(6) :    # i = 1,2,3,4, 5\n",
    "    print(\"*\" * i)"
   ]
  },
  {
   "cell_type": "code",
   "execution_count": 43,
   "id": "4e9ed1e0",
   "metadata": {},
   "outputs": [
    {
     "name": "stdout",
     "output_type": "stream",
     "text": [
      "*\t\t\t\t\t\t\n",
      "\t*\t\t\t\t\t\n",
      "\t\t*\t\t\t\t\n",
      "\t\t\t*\t\t\t\n",
      "\t\t\t\t*\t\t\n",
      "\t\t\t\t\t*\t\n"
     ]
    }
   ],
   "source": [
    "# WAp to display \n",
    "\"\"\"\n",
    "*\n",
    "   *\n",
    "      *\n",
    "         *\n",
    "            *\n",
    "               *          rows =6   columns = 6  \n",
    "\n",
    "\"\"\"\n",
    "\n",
    "for i in range(6) : \n",
    "    for j in range(6) : \n",
    "        if i == j :\n",
    "            print(\"*\", end = \"\\t\")\n",
    "        else : \n",
    "            print(\"\", end = \"\\t\")\n",
    "    print()\n",
    "    "
   ]
  },
  {
   "cell_type": "markdown",
   "id": "c10afdce",
   "metadata": {},
   "source": [
    "##  2. While()"
   ]
  },
  {
   "cell_type": "code",
   "execution_count": 44,
   "id": "5b577804",
   "metadata": {},
   "outputs": [],
   "source": [
    "# Syntax : \n",
    "# while(condition) : "
   ]
  },
  {
   "cell_type": "code",
   "execution_count": 45,
   "id": "f648b1bc",
   "metadata": {},
   "outputs": [],
   "source": [
    "# Initialization\n",
    "# Condition\n",
    "# Increment / Decrement "
   ]
  },
  {
   "cell_type": "code",
   "execution_count": 46,
   "id": "18004770",
   "metadata": {},
   "outputs": [
    {
     "name": "stdout",
     "output_type": "stream",
     "text": [
      "1\n",
      "2\n",
      "3\n",
      "4\n",
      "5\n",
      "6\n",
      "7\n",
      "8\n",
      "9\n",
      "10\n"
     ]
    }
   ],
   "source": [
    "# WAP to display 1 to 10.\n",
    "\n",
    "i = 1             # Initialization\n",
    "while i <= 10 :\n",
    "    print(i)\n",
    "    i = i + 1"
   ]
  },
  {
   "cell_type": "code",
   "execution_count": null,
   "id": "d9ad9b63",
   "metadata": {},
   "outputs": [],
   "source": [
    "# WAP to display 11 to 25.\n",
    "# WAP to display 111 to 222\n",
    "# WAP to display 55 to 22.\n",
    "# WAP to 10, 15, 20, 25, .. 50.\n",
    "# WAP to display 100, 95, 90, 85, .., 50."
   ]
  },
  {
   "cell_type": "code",
   "execution_count": 48,
   "id": "2ed1f450",
   "metadata": {},
   "outputs": [
    {
     "name": "stdout",
     "output_type": "stream",
     "text": [
      "11\t12\t13\t14\t15\t16\t17\t18\t19\t20\t21\t22\t23\t24\t25\t"
     ]
    }
   ],
   "source": [
    "# WAP to display 11 to 25.\n",
    "\n",
    "i = 11                 # Initialization\n",
    "while i <= 25:         # Condition\n",
    "    print(i, end =\"\\t\")\n",
    "    i = i + 1          #Increment "
   ]
  },
  {
   "cell_type": "code",
   "execution_count": 2,
   "id": "05bfc48f",
   "metadata": {},
   "outputs": [
    {
     "name": "stdout",
     "output_type": "stream",
     "text": [
      "111\t112\t113\t114\t115\t116\t117\t118\t119\t120\t121\t122\t123\t124\t125\t126\t127\t128\t129\t130\t131\t132\t133\t134\t135\t136\t137\t138\t139\t140\t141\t142\t143\t144\t145\t146\t147\t148\t149\t150\t151\t152\t153\t154\t155\t156\t157\t158\t159\t160\t161\t162\t163\t164\t165\t166\t167\t168\t169\t170\t171\t172\t173\t174\t175\t176\t177\t178\t179\t180\t181\t182\t183\t184\t185\t186\t187\t188\t189\t190\t191\t192\t193\t194\t195\t196\t197\t198\t199\t200\t201\t202\t203\t204\t205\t206\t207\t208\t209\t210\t211\t212\t213\t214\t215\t216\t217\t218\t219\t220\t221\t222\t"
     ]
    }
   ],
   "source": [
    "# WAP to display 111 to 222\n",
    "\n",
    "i = 111                     # Initialization \n",
    "\n",
    "while i <= 222 :            # Condition \n",
    "    print(i, end = \"\\t\")\n",
    "    i = i + 1               # Increment "
   ]
  },
  {
   "cell_type": "code",
   "execution_count": 4,
   "id": "63b07248",
   "metadata": {},
   "outputs": [
    {
     "name": "stdout",
     "output_type": "stream",
     "text": [
      "55\t54\t53\t52\t51\t50\t49\t48\t47\t46\t45\t44\t43\t42\t41\t40\t39\t38\t37\t36\t35\t34\t33\t32\t31\t30\t29\t28\t27\t26\t25\t24\t23\t22\t"
     ]
    }
   ],
   "source": [
    "# WAP to display 55 to 22.\n",
    "\n",
    "i = 55  # initialization\n",
    "while i >= 22 :\n",
    "    print(i, end = \"\\t\")\n",
    "    i = i - 1\n",
    "    "
   ]
  },
  {
   "cell_type": "code",
   "execution_count": 5,
   "id": "431263b2",
   "metadata": {},
   "outputs": [
    {
     "name": "stdout",
     "output_type": "stream",
     "text": [
      "10\t15\t20\t25\t30\t35\t40\t45\t50\t"
     ]
    }
   ],
   "source": [
    "# WAP to 10, 15, 20, 25, .. 50.\n",
    "\n",
    "i = 10                        # Initialization \n",
    "\n",
    "while i <= 50 :\n",
    "    print(i, end =\"\\t\")\n",
    "    i = i + 5"
   ]
  },
  {
   "cell_type": "code",
   "execution_count": 6,
   "id": "2403433a",
   "metadata": {},
   "outputs": [
    {
     "name": "stdout",
     "output_type": "stream",
     "text": [
      "100\t95\t90\t85\t80\t75\t70\t65\t60\t55\t50\t"
     ]
    }
   ],
   "source": [
    "# WAP to display 100, 95, 90, 85, .., 50.\n",
    "\n",
    "i = 100  # initialization\n",
    "while i >= 50 :\n",
    "    print(i, end = \"\\t\")\n",
    "    i = i - 5"
   ]
  },
  {
   "cell_type": "code",
   "execution_count": 12,
   "id": "2d704131",
   "metadata": {},
   "outputs": [
    {
     "name": "stdout",
     "output_type": "stream",
     "text": [
      " Enter a Number : 23\n",
      "23\t46\t69\t92\t115\t138\t161\t184\t207\t230\t"
     ]
    }
   ],
   "source": [
    "# WAp to display table of number given by User.\n",
    "\n",
    "n = int(input(\" Enter a Number : \"))\n",
    "i = 1                                        # initialization \n",
    "while i < 11 : \n",
    "    print(n * i, end = \"\\t\")\n",
    "    i = i + 1 "
   ]
  },
  {
   "cell_type": "code",
   "execution_count": 16,
   "id": "99a3ffc0",
   "metadata": {},
   "outputs": [],
   "source": [
    "# WAP to display squares and cubes of  of all numbers from 1 to 30.\n",
    "\n",
    "i = 1\n",
    "while i <= 30  :\n",
    "    print(i, \"\\t\", i ** 2, \"\\t\", i ** 3)\n",
    "    i = i + 1\n"
   ]
  },
  {
   "cell_type": "code",
   "execution_count": 24,
   "id": "5d75b70b",
   "metadata": {},
   "outputs": [
    {
     "name": "stdout",
     "output_type": "stream",
     "text": [
      " Enter a Number : 444\n",
      " Enter a Number : 777\n",
      "451\t462\t473\t484\t495\t506\t517\t528\t539\t550\t561\t572\t583\t594\t605\t616\t627\t638\t649\t660\t671\t682\t693\t704\t715\t726\t737\t748\t759\t770\t\n",
      "Count :  30\n"
     ]
    }
   ],
   "source": [
    "# WAp to count and  display multiples of 11 in range given by user.\n",
    "\n",
    "# Taking inputs from User \n",
    "\n",
    "n1 = int(input(\" Enter a Number : \"))    # 111\n",
    "n2 = int(input(\" Enter a Number : \"))    # 222\n",
    "\n",
    "i = n1                            # Initialization\n",
    "c = 0                             # counter variable\n",
    "while i <= n2  :                  # Condition \n",
    "    if i % 11 == 0 :              # Condition to get multiples of 11         \n",
    "        print(i, end = \"\\t\")\n",
    "        c = c + 1                 # Increment Counter \n",
    "    i = i + 1\n",
    "    \n",
    "print(\"\\nCount : \", c)"
   ]
  },
  {
   "cell_type": "code",
   "execution_count": 32,
   "id": "a0e2d66a",
   "metadata": {},
   "outputs": [
    {
     "name": "stdout",
     "output_type": "stream",
     "text": [
      " Enter a Number  : 12234\n",
      "4\n",
      "3\n",
      "2\n",
      "2\n",
      "1\n"
     ]
    }
   ],
   "source": [
    "# WAP to display digits of a number.\n",
    "\n",
    "n1 = int(input(\" Enter a Number  : \"))\n",
    "\n",
    "while n1 > 0 : \n",
    "    d = n1 % 10         # remainder \n",
    "    n1  = n1 // 10   \n",
    "    \n",
    "    print(d)  \n",
    "    "
   ]
  },
  {
   "cell_type": "code",
   "execution_count": 35,
   "id": "7b0d529d",
   "metadata": {},
   "outputs": [
    {
     "name": "stdout",
     "output_type": "stream",
     "text": [
      " Enter a Number  : 12345\n",
      "5\n",
      "4\n",
      "3\n",
      "2\n",
      "1\n",
      " Count of Digits :  5\n"
     ]
    }
   ],
   "source": [
    "# WAP to count no of digits.\n",
    "\n",
    "n1 = int(input(\" Enter a Number  : \"))\n",
    "c = 0                                             # Count variable\n",
    "while n1 > 0 : \n",
    "    d = n1 % 10         # remainder \n",
    "    c = c + 1\n",
    "    n1  = n1 // 10   \n",
    "    \n",
    "    print(d)  \n",
    "    \n",
    "print(\" Count of Digits : \", c)"
   ]
  },
  {
   "cell_type": "code",
   "execution_count": 38,
   "id": "bb0462d6",
   "metadata": {},
   "outputs": [
    {
     "name": "stdout",
     "output_type": "stream",
     "text": [
      " Enter a Number  : 123\n",
      " Sum of Digits :  6\n"
     ]
    }
   ],
   "source": [
    "# WAp to add all digits \n",
    "\n",
    "n1 = int(input(\" Enter a Number  : \"))\n",
    "sum = 0 \n",
    "while n1 > 0 : \n",
    "    d = n1 % 10         # remainder \n",
    "    n1  = n1 // 10   \n",
    "    sum = sum + d    \n",
    "    print(d)  \n",
    "    \n",
    "print(\" Sum of Digits : \", sum)"
   ]
  },
  {
   "cell_type": "code",
   "execution_count": 39,
   "id": "49b1665d",
   "metadata": {},
   "outputs": [
    {
     "name": "stdout",
     "output_type": "stream",
     "text": [
      " Enter a Number  : 123\n",
      "3\n",
      "2\n",
      "1\n",
      " Sum of Squares of  Digits :  14\n"
     ]
    }
   ],
   "source": [
    "# WAp to add squares of all digits of a number.\n",
    "\n",
    "n1 = int(input(\" Enter a Number  : \"))\n",
    "sum = 0 \n",
    "while n1 > 0 : \n",
    "    d = n1 % 10         # remainder \n",
    "    n1  = n1 // 10   \n",
    "    sum = sum + (d * d )   \n",
    "    print(d)  \n",
    "    \n",
    "print(\" Sum of Squares of  Digits : \", sum)"
   ]
  },
  {
   "cell_type": "code",
   "execution_count": 43,
   "id": "24e5bfe2",
   "metadata": {},
   "outputs": [
    {
     "name": "stdout",
     "output_type": "stream",
     "text": [
      " Enter a Number  : 123456\n",
      "6\n",
      "5\n",
      "4\n",
      "3\n",
      "2\n",
      "1\n",
      " Reverse Number :  654321\n"
     ]
    }
   ],
   "source": [
    "# WAp to reverse a number.\n",
    "\n",
    "n1 = int(input(\" Enter a Number  : \"))\n",
    "r = 0                  # Reverse given number \n",
    "\n",
    "while n1 > 0 : \n",
    "    d = n1 % 10         # remainder \n",
    "    n1  = n1 // 10   \n",
    "    \n",
    "    r = r * 10  + d      # reverse given number \n",
    "    \n",
    "    print(d)             # Display digits of given number \n",
    "    \n",
    "print(\" Reverse Number : \", r)"
   ]
  },
  {
   "cell_type": "code",
   "execution_count": 47,
   "id": "0fe8bd76",
   "metadata": {},
   "outputs": [
    {
     "name": "stdout",
     "output_type": "stream",
     "text": [
      " Enter a Number  : 123\n",
      "3\n",
      "2\n",
      "1\n",
      " Reverse Number :  321\n",
      " Not Pallindrome \n"
     ]
    }
   ],
   "source": [
    "# WAp to check whether number is pallindrome.\n",
    "\n",
    "n1 = int(input(\" Enter a Number  : \"))\n",
    "n2 = n1\n",
    "r = 0                  # Reverse given number \n",
    "\n",
    "while n1 > 0 : \n",
    "    d = n1 % 10         # remainder \n",
    "    n1  = n1 // 10   \n",
    "    \n",
    "    r = r * 10  + d      # reverse given number \n",
    "    \n",
    "    print(d)             # Display digits of given number \n",
    "    \n",
    "print(\" Reverse Number : \", r)\n",
    "\n",
    "# Check Pallindrome\n",
    "if n2 == r :\n",
    "    print(\" Pallindrome\")\n",
    "else :\n",
    "    print(\" Not Pallindrome \")"
   ]
  },
  {
   "cell_type": "code",
   "execution_count": 52,
   "id": "4f34c249",
   "metadata": {},
   "outputs": [
    {
     "name": "stdout",
     "output_type": "stream",
     "text": [
      " Enter a Number  : 153\n",
      "3\n",
      "5\n",
      "1\n",
      " Sum of Cubes of  Digits :  153\n",
      " Amstrong Number \n"
     ]
    }
   ],
   "source": [
    "# WAp to check whether given number is amstrong number.\n",
    "\n",
    "\n",
    "n1 = int(input(\" Enter a Number  : \"))\n",
    "n2 = n1 \n",
    "sum = 0 \n",
    "while n1 > 0 : \n",
    "    d = n1 % 10                      # remainder \n",
    "    n1  = n1 // 10   \n",
    "    sum = sum + (d ** 3 )          # Sum of all cubes of digits \n",
    "    print(d)  \n",
    "    \n",
    "print(\" Sum of Cubes of  Digits : \", sum)\n",
    "\n",
    "# To check whether amstrong Number \n",
    "\n",
    "if n2 == sum :\n",
    "    print(\" Amstrong Number \")\n",
    "else :\n",
    "    print(\" Not an Amstrong Number \")"
   ]
  },
  {
   "cell_type": "code",
   "execution_count": 56,
   "id": "5963e747",
   "metadata": {},
   "outputs": [
    {
     "name": "stdout",
     "output_type": "stream",
     "text": [
      "1\n",
      "13\n",
      "13 is Prime Number \n"
     ]
    }
   ],
   "source": [
    "# WAP to find prime number.                           in range given by user.\n",
    "\n",
    "n1 = 13\n",
    "c = 0\n",
    "\n",
    "i = 1\n",
    "while i <= 13 : \n",
    "    if n1 % i == 0 : \n",
    "        print(i)\n",
    "        c= c + 1\n",
    "    i = i + 1\n",
    "# To check Prime Number \n",
    "if     c == 2 : \n",
    "    print(n1, \"is Prime Number \")   \n"
   ]
  },
  {
   "cell_type": "code",
   "execution_count": null,
   "id": "5ab20604",
   "metadata": {},
   "outputs": [],
   "source": []
  }
 ],
 "metadata": {
  "kernelspec": {
   "display_name": "Python 3 (ipykernel)",
   "language": "python",
   "name": "python3"
  },
  "language_info": {
   "codemirror_mode": {
    "name": "ipython",
    "version": 3
   },
   "file_extension": ".py",
   "mimetype": "text/x-python",
   "name": "python",
   "nbconvert_exporter": "python",
   "pygments_lexer": "ipython3",
   "version": "3.11.4"
  }
 },
 "nbformat": 4,
 "nbformat_minor": 5
}
